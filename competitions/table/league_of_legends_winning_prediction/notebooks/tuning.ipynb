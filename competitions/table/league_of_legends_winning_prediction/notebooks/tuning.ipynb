{
 "cells": [
  {
   "cell_type": "code",
   "execution_count": 1,
   "id": "Hbol",
   "metadata": {},
   "outputs": [],
   "source": [
    "import marimo as mo"
   ]
  },
  {
   "cell_type": "code",
   "execution_count": 2,
   "id": "MJUe",
   "metadata": {},
   "outputs": [
    {
     "name": "stderr",
     "output_type": "stream",
     "text": [
      "/Users/shosei/workspace/kaggle/competitions/table/league_of_legends_winning_prediction/.venv/lib/python3.13/site-packages/tqdm/auto.py:21: TqdmWarning: IProgress not found. Please update jupyter and ipywidgets. See https://ipywidgets.readthedocs.io/en/stable/user_install.html\n",
      "  from .autonotebook import tqdm as notebook_tqdm\n"
     ]
    }
   ],
   "source": [
    "import pandas as pd\n",
    "import numpy as np\n",
    "import lightgbm as lgb\n",
    "from sklearn.model_selection import StratifiedKFold\n",
    "from sklearn.metrics import accuracy_score, roc_auc_score\n",
    "import matplotlib.pyplot as plt\n",
    "import yaml\n",
    "import warnings\n",
    "import optuna\n",
    "from optuna.visualization import plot_optimization_history, plot_param_importances\n",
    "\n",
    "warnings.filterwarnings(\"ignore\")"
   ]
  },
  {
   "cell_type": "code",
   "execution_count": 4,
   "id": "vblA",
   "metadata": {},
   "outputs": [
    {
     "name": "stdout",
     "output_type": "stream",
     "text": [
      "(144000, 42) (36000, 42) (144000,) (36000, 44)\n"
     ]
    }
   ],
   "source": [
    "# データ準備\n",
    "X_train = pd.read_csv(\"../data/processed/train_x_add_features.csv\")\n",
    "test_df = pd.read_csv(\"../data/processed/test_x_add_features.csv\")\n",
    "\n",
    "y_train = X_train[\"win\"]\n",
    "X_train.drop([\"win\"], axis=1, inplace=True)\n",
    "X_test = test_df.drop([\"id\", \"win\"], axis=1)\n",
    "\n",
    "print(X_train.shape, X_test.shape, y_train.shape, test_df.shape)"
   ]
  },
  {
   "cell_type": "code",
   "execution_count": 5,
   "id": "bkHC",
   "metadata": {},
   "outputs": [
    {
     "data": {
      "text/plain": [
       "28800"
      ]
     },
     "execution_count": 5,
     "metadata": {},
     "output_type": "execute_result"
    }
   ],
   "source": [
    "config_path = \"../configs/config_lgbm_cvmean.yaml\"\n",
    "with open(config_path) as config_file:\n",
    "    config = yaml.safe_load(config_file)\n",
    "\n",
    "# 交差検証の設定\n",
    "n_splits = 5\n",
    "optimal_threshold = config[\"threshold\"][\"optimal\"]\n",
    "kf = StratifiedKFold(n_splits=n_splits, shuffle=True, random_state=71)\n",
    "\n",
    "len(X_train) // n_splits"
   ]
  },
  {
   "cell_type": "code",
   "execution_count": 6,
   "id": "lEQa",
   "metadata": {},
   "outputs": [],
   "source": [
    "# Optunaのobjective関数を定義\n",
    "def objective(trial):\n",
    "    # ハイパーパラメータの探索範囲を定義\n",
    "    params = {\n",
    "        \"objective\": \"binary\",\n",
    "        \"metric\": \"binary_logloss\",\n",
    "        \"boosting_type\": \"gbdt\",\n",
    "        \"verbosity\": -1,\n",
    "        \"random_state\": 42,\n",
    "        # チューニング対象のパラメータ\n",
    "        \"learning_rate\": trial.suggest_float(\"learning_rate\", 0.01, 0.1, log=True),\n",
    "        \"num_leaves\": trial.suggest_int(\"num_leaves\", 20, 100),\n",
    "        \"max_depth\": trial.suggest_int(\"max_depth\", 3, 12),\n",
    "        \"min_child_samples\": trial.suggest_int(\"min_child_samples\", 5, 100),\n",
    "        \"feature_fraction\": trial.suggest_float(\"feature_fraction\", 0.6, 1.0),\n",
    "        \"bagging_fraction\": trial.suggest_float(\"bagging_fraction\", 0.6, 1.0),\n",
    "        \"bagging_freq\": trial.suggest_int(\"bagging_freq\", 1, 7),\n",
    "        \"lambda_l1\": trial.suggest_float(\"lambda_l1\", 1e-8, 10.0, log=True),\n",
    "        \"lambda_l2\": trial.suggest_float(\"lambda_l2\", 1e-8, 10.0, log=True),\n",
    "    }\n",
    "\n",
    "    # 交差検証でスコアを計算\n",
    "    cv_scores = []\n",
    "    kf_optuna = StratifiedKFold(n_splits=5, shuffle=True, random_state=71)\n",
    "\n",
    "    for train_idx, valid_idx in kf_optuna.split(X_train, y_train):\n",
    "        X_train_fold = X_train.iloc[train_idx]\n",
    "        X_valid_fold = X_train.iloc[valid_idx]\n",
    "        y_train_fold = y_train.iloc[train_idx]\n",
    "        y_valid_fold = y_train.iloc[valid_idx]\n",
    "\n",
    "        train_data = lgb.Dataset(X_train_fold, label=y_train_fold)\n",
    "        valid_data = lgb.Dataset(X_valid_fold, label=y_valid_fold, reference=train_data)\n",
    "\n",
    "        model = lgb.train(\n",
    "            params,\n",
    "            train_data,\n",
    "            num_boost_round=1000,\n",
    "            valid_sets=[valid_data],\n",
    "            callbacks=[\n",
    "                lgb.early_stopping(stopping_rounds=50, verbose=False),\n",
    "                lgb.log_evaluation(period=0),\n",
    "            ],\n",
    "        )\n",
    "\n",
    "        y_valid_pred = model.predict(X_valid_fold, num_iteration=model.best_iteration)\n",
    "        auc = roc_auc_score(y_valid_fold, y_valid_pred) # type: ignore\n",
    "        cv_scores.append(auc)\n",
    "\n",
    "    return np.mean(cv_scores)"
   ]
  },
  {
   "cell_type": "code",
   "execution_count": 7,
   "id": "PKri",
   "metadata": {},
   "outputs": [
    {
     "name": "stderr",
     "output_type": "stream",
     "text": [
      "[I 2025-10-21 02:23:54,964] A new study created in memory with name: lgbm_optimization\n",
      "Best trial: 0. Best value: 0.938243:   1%|          | 1/100 [02:18<3:48:35, 138.54s/it]"
     ]
    },
    {
     "name": "stdout",
     "output_type": "stream",
     "text": [
      "[I 2025-10-21 02:26:13,524] Trial 0 finished with value: 0.9382426916340387 and parameters: {'learning_rate': 0.016950642952172298, 'num_leaves': 86, 'max_depth': 7, 'min_child_samples': 64, 'feature_fraction': 0.8939086855724778, 'bagging_fraction': 0.8470745151537922, 'bagging_freq': 7, 'lambda_l1': 0.0005568936859938009, 'lambda_l2': 1.8710169838375191e-06}. Best is trial 0 with value: 0.9382426916340387.\n"
     ]
    },
    {
     "name": "stderr",
     "output_type": "stream",
     "text": [
      "Best trial: 0. Best value: 0.938243:   2%|▏         | 2/100 [03:11<2:23:37, 87.93s/it] "
     ]
    },
    {
     "name": "stdout",
     "output_type": "stream",
     "text": [
      "[I 2025-10-21 02:27:06,029] Trial 1 finished with value: 0.9357287932502831 and parameters: {'learning_rate': 0.022308411991754488, 'num_leaves': 91, 'max_depth': 4, 'min_child_samples': 54, 'feature_fraction': 0.6441557087586606, 'bagging_fraction': 0.8498122787608526, 'bagging_freq': 7, 'lambda_l1': 2.0484323970347587e-06, 'lambda_l2': 2.196300731116674e-05}. Best is trial 0 with value: 0.9382426916340387.\n"
     ]
    },
    {
     "name": "stderr",
     "output_type": "stream",
     "text": [
      "Best trial: 0. Best value: 0.938243:   3%|▎         | 3/100 [03:53<1:48:27, 67.09s/it]"
     ]
    },
    {
     "name": "stdout",
     "output_type": "stream",
     "text": [
      "[I 2025-10-21 02:27:48,313] Trial 2 finished with value: 0.9316065745126885 and parameters: {'learning_rate': 0.019300818602142972, 'num_leaves': 69, 'max_depth': 3, 'min_child_samples': 77, 'feature_fraction': 0.744073116274593, 'bagging_fraction': 0.9299003689902016, 'bagging_freq': 5, 'lambda_l1': 1.3501015625074335e-07, 'lambda_l2': 0.11694755465872167}. Best is trial 0 with value: 0.9382426916340387.\n"
     ]
    },
    {
     "name": "stderr",
     "output_type": "stream",
     "text": [
      "Best trial: 0. Best value: 0.938243:   4%|▍         | 4/100 [04:35<1:31:46, 57.36s/it]"
     ]
    },
    {
     "name": "stdout",
     "output_type": "stream",
     "text": [
      "[I 2025-10-21 02:28:30,769] Trial 3 finished with value: 0.9267414928761089 and parameters: {'learning_rate': 0.010704437010111749, 'num_leaves': 84, 'max_depth': 3, 'min_child_samples': 20, 'feature_fraction': 0.6875302902592061, 'bagging_fraction': 0.9960349109908009, 'bagging_freq': 3, 'lambda_l1': 1.36442751773463, 'lambda_l2': 0.16460026159821797}. Best is trial 0 with value: 0.9382426916340387.\n"
     ]
    },
    {
     "name": "stderr",
     "output_type": "stream",
     "text": [
      "Best trial: 0. Best value: 0.938243:   5%|▌         | 5/100 [05:37<1:33:22, 58.97s/it]"
     ]
    },
    {
     "name": "stdout",
     "output_type": "stream",
     "text": [
      "[I 2025-10-21 02:29:32,590] Trial 4 finished with value: 0.9381168727309463 and parameters: {'learning_rate': 0.04128114410491067, 'num_leaves': 65, 'max_depth': 5, 'min_child_samples': 70, 'feature_fraction': 0.9036217539006082, 'bagging_fraction': 0.8803949357521176, 'bagging_freq': 3, 'lambda_l1': 6.388080489818276e-05, 'lambda_l2': 2.024972880217974e-06}. Best is trial 0 with value: 0.9382426916340387.\n"
     ]
    },
    {
     "name": "stderr",
     "output_type": "stream",
     "text": [
      "Best trial: 5. Best value: 0.938658:   6%|▌         | 6/100 [08:09<2:21:37, 90.40s/it]"
     ]
    },
    {
     "name": "stdout",
     "output_type": "stream",
     "text": [
      "[I 2025-10-21 02:32:03,991] Trial 5 finished with value: 0.9386575692794127 and parameters: {'learning_rate': 0.020772172562904423, 'num_leaves': 94, 'max_depth': 8, 'min_child_samples': 23, 'feature_fraction': 0.6066808986957567, 'bagging_fraction': 0.6107261433868514, 'bagging_freq': 3, 'lambda_l1': 4.22721073098029e-08, 'lambda_l2': 0.000190537637821707}. Best is trial 5 with value: 0.9386575692794127.\n"
     ]
    },
    {
     "name": "stderr",
     "output_type": "stream",
     "text": [
      "Best trial: 5. Best value: 0.938658:   7%|▋         | 7/100 [09:34<2:17:44, 88.87s/it]"
     ]
    },
    {
     "name": "stdout",
     "output_type": "stream",
     "text": [
      "[I 2025-10-21 02:33:29,706] Trial 6 finished with value: 0.9383647253356345 and parameters: {'learning_rate': 0.03440080459492873, 'num_leaves': 35, 'max_depth': 7, 'min_child_samples': 97, 'feature_fraction': 0.9791587469446417, 'bagging_fraction': 0.8487892985779253, 'bagging_freq': 3, 'lambda_l1': 0.0006690285452129916, 'lambda_l2': 2.2671685251822313e-05}. Best is trial 5 with value: 0.9386575692794127.\n"
     ]
    },
    {
     "name": "stderr",
     "output_type": "stream",
     "text": [
      "Best trial: 5. Best value: 0.938658:   8%|▊         | 8/100 [10:10<1:50:16, 71.92s/it]"
     ]
    },
    {
     "name": "stdout",
     "output_type": "stream",
     "text": [
      "[I 2025-10-21 02:34:05,328] Trial 7 finished with value: 0.9347001523905212 and parameters: {'learning_rate': 0.03401486519966481, 'num_leaves': 60, 'max_depth': 3, 'min_child_samples': 61, 'feature_fraction': 0.8977397589995465, 'bagging_fraction': 0.7282892314779322, 'bagging_freq': 5, 'lambda_l1': 8.94950267335459, 'lambda_l2': 0.019576968700929138}. Best is trial 5 with value: 0.9386575692794127.\n"
     ]
    },
    {
     "name": "stderr",
     "output_type": "stream",
     "text": [
      "Best trial: 5. Best value: 0.938658:   9%|▉         | 9/100 [11:20<1:48:08, 71.30s/it]"
     ]
    },
    {
     "name": "stdout",
     "output_type": "stream",
     "text": [
      "[I 2025-10-21 02:35:15,266] Trial 8 finished with value: 0.9376987649555517 and parameters: {'learning_rate': 0.03060019429682672, 'num_leaves': 43, 'max_depth': 5, 'min_child_samples': 22, 'feature_fraction': 0.8886835786956658, 'bagging_fraction': 0.9722747923433012, 'bagging_freq': 6, 'lambda_l1': 8.411221642718439e-07, 'lambda_l2': 0.004148411988335862}. Best is trial 5 with value: 0.9386575692794127.\n"
     ]
    },
    {
     "name": "stderr",
     "output_type": "stream",
     "text": [
      "Best trial: 9. Best value: 0.938707:  10%|█         | 10/100 [13:20<2:09:43, 86.48s/it]"
     ]
    },
    {
     "name": "stdout",
     "output_type": "stream",
     "text": [
      "[I 2025-10-21 02:37:15,757] Trial 9 finished with value: 0.9387073807332031 and parameters: {'learning_rate': 0.02599202016111137, 'num_leaves': 48, 'max_depth': 12, 'min_child_samples': 77, 'feature_fraction': 0.7617028300110954, 'bagging_fraction': 0.9180566985581486, 'bagging_freq': 6, 'lambda_l1': 0.0038323270122284387, 'lambda_l2': 0.00016667646596154386}. Best is trial 9 with value: 0.9387073807332031.\n"
     ]
    },
    {
     "name": "stderr",
     "output_type": "stream",
     "text": [
      "Best trial: 9. Best value: 0.938707:  11%|█         | 11/100 [13:52<1:43:32, 69.80s/it]"
     ]
    },
    {
     "name": "stdout",
     "output_type": "stream",
     "text": [
      "[I 2025-10-21 02:37:47,741] Trial 10 finished with value: 0.9378296291991923 and parameters: {'learning_rate': 0.09298273785301507, 'num_leaves': 23, 'max_depth': 12, 'min_child_samples': 99, 'feature_fraction': 0.7911220856884754, 'bagging_fraction': 0.7558515158474973, 'bagging_freq': 1, 'lambda_l1': 0.06931431422556616, 'lambda_l2': 1.639879169927431e-08}. Best is trial 9 with value: 0.9387073807332031.\n"
     ]
    },
    {
     "name": "stderr",
     "output_type": "stream",
     "text": [
      "Best trial: 9. Best value: 0.938707:  12%|█▏        | 12/100 [14:45<1:34:44, 64.59s/it]"
     ]
    },
    {
     "name": "stdout",
     "output_type": "stream",
     "text": [
      "[I 2025-10-21 02:38:40,417] Trial 11 finished with value: 0.9383821192530182 and parameters: {'learning_rate': 0.06741260061815457, 'num_leaves': 49, 'max_depth': 12, 'min_child_samples': 6, 'feature_fraction': 0.6089713854386145, 'bagging_fraction': 0.6131674046271398, 'bagging_freq': 1, 'lambda_l1': 0.02190181595914467, 'lambda_l2': 4.453050654230639}. Best is trial 9 with value: 0.9387073807332031.\n"
     ]
    },
    {
     "name": "stderr",
     "output_type": "stream",
     "text": [
      "Best trial: 9. Best value: 0.938707:  13%|█▎        | 13/100 [17:25<2:15:23, 93.38s/it]"
     ]
    },
    {
     "name": "stdout",
     "output_type": "stream",
     "text": [
      "[I 2025-10-21 02:41:20,024] Trial 12 finished with value: 0.9384860602521108 and parameters: {'learning_rate': 0.013068935907266996, 'num_leaves': 74, 'max_depth': 10, 'min_child_samples': 36, 'feature_fraction': 0.7215877375030871, 'bagging_fraction': 0.6153833313405925, 'bagging_freq': 4, 'lambda_l1': 2.000570959195499e-08, 'lambda_l2': 0.00042034912167211627}. Best is trial 9 with value: 0.9387073807332031.\n"
     ]
    },
    {
     "name": "stderr",
     "output_type": "stream",
     "text": [
      "Best trial: 9. Best value: 0.938707:  14%|█▍        | 14/100 [18:28<2:00:45, 84.26s/it]"
     ]
    },
    {
     "name": "stdout",
     "output_type": "stream",
     "text": [
      "[I 2025-10-21 02:42:23,203] Trial 13 finished with value: 0.9383466234807554 and parameters: {'learning_rate': 0.0532846050859297, 'num_leaves': 54, 'max_depth': 9, 'min_child_samples': 40, 'feature_fraction': 0.8106469188130799, 'bagging_fraction': 0.6868641911735108, 'bagging_freq': 2, 'lambda_l1': 3.610891761505353e-05, 'lambda_l2': 0.00043569084811327023}. Best is trial 9 with value: 0.9387073807332031.\n"
     ]
    },
    {
     "name": "stderr",
     "output_type": "stream",
     "text": [
      "Best trial: 14. Best value: 0.938967:  15%|█▌        | 15/100 [21:13<2:34:05, 108.77s/it]"
     ]
    },
    {
     "name": "stdout",
     "output_type": "stream",
     "text": [
      "[I 2025-10-21 02:45:08,801] Trial 14 finished with value: 0.9389666492397207 and parameters: {'learning_rate': 0.023778579490103417, 'num_leaves': 98, 'max_depth': 10, 'min_child_samples': 86, 'feature_fraction': 0.6632260569627648, 'bagging_fraction': 0.7787759030243014, 'bagging_freq': 5, 'lambda_l1': 0.025681839476165032, 'lambda_l2': 3.1757788186899075e-08}. Best is trial 14 with value: 0.9389666492397207.\n"
     ]
    },
    {
     "name": "stderr",
     "output_type": "stream",
     "text": [
      "Best trial: 14. Best value: 0.938967:  16%|█▌        | 16/100 [23:36<2:46:42, 119.08s/it]"
     ]
    },
    {
     "name": "stdout",
     "output_type": "stream",
     "text": [
      "[I 2025-10-21 02:47:31,811] Trial 15 finished with value: 0.9387786167710528 and parameters: {'learning_rate': 0.026898996693509584, 'num_leaves': 100, 'max_depth': 11, 'min_child_samples': 85, 'feature_fraction': 0.6791077395786516, 'bagging_fraction': 0.7881964057550764, 'bagging_freq': 6, 'lambda_l1': 0.03393101167313586, 'lambda_l2': 1.1309128337548765e-08}. Best is trial 14 with value: 0.9389666492397207.\n"
     ]
    },
    {
     "name": "stderr",
     "output_type": "stream",
     "text": [
      "Best trial: 14. Best value: 0.938967:  17%|█▋        | 17/100 [26:56<3:18:11, 143.27s/it]"
     ]
    },
    {
     "name": "stdout",
     "output_type": "stream",
     "text": [
      "[I 2025-10-21 02:50:51,322] Trial 16 finished with value: 0.9389410194064514 and parameters: {'learning_rate': 0.015559882171075092, 'num_leaves': 100, 'max_depth': 10, 'min_child_samples': 87, 'feature_fraction': 0.6760896753425474, 'bagging_fraction': 0.7894465949584702, 'bagging_freq': 5, 'lambda_l1': 0.07667795416426516, 'lambda_l2': 2.8670985106184713e-08}. Best is trial 14 with value: 0.9389666492397207.\n"
     ]
    },
    {
     "name": "stderr",
     "output_type": "stream",
     "text": [
      "Best trial: 14. Best value: 0.938967:  18%|█▊        | 18/100 [29:47<3:27:12, 151.61s/it]"
     ]
    },
    {
     "name": "stdout",
     "output_type": "stream",
     "text": [
      "[I 2025-10-21 02:53:42,373] Trial 17 finished with value: 0.9389112721012228 and parameters: {'learning_rate': 0.014775805441044098, 'num_leaves': 79, 'max_depth': 10, 'min_child_samples': 90, 'feature_fraction': 0.6716924767683343, 'bagging_fraction': 0.7045089234914337, 'bagging_freq': 5, 'lambda_l1': 0.32657321189076544, 'lambda_l2': 1.6441523689437954e-07}. Best is trial 14 with value: 0.9389666492397207.\n"
     ]
    },
    {
     "name": "stderr",
     "output_type": "stream",
     "text": [
      "Best trial: 14. Best value: 0.938967:  19%|█▉        | 19/100 [33:18<3:48:40, 169.39s/it]"
     ]
    },
    {
     "name": "stdout",
     "output_type": "stream",
     "text": [
      "[I 2025-10-21 02:57:13,182] Trial 18 finished with value: 0.938299377128439 and parameters: {'learning_rate': 0.010849556064720427, 'num_leaves': 99, 'max_depth': 9, 'min_child_samples': 84, 'feature_fraction': 0.8405066957325776, 'bagging_fraction': 0.7939874314334521, 'bagging_freq': 4, 'lambda_l1': 0.005738175140094413, 'lambda_l2': 1.6228462227860553e-07}. Best is trial 14 with value: 0.9389666492397207.\n"
     ]
    },
    {
     "name": "stderr",
     "output_type": "stream",
     "text": [
      "Best trial: 14. Best value: 0.938967:  20%|██        | 20/100 [36:26<3:53:14, 174.93s/it]"
     ]
    },
    {
     "name": "stdout",
     "output_type": "stream",
     "text": [
      "[I 2025-10-21 03:00:21,029] Trial 19 finished with value: 0.9387764422933893 and parameters: {'learning_rate': 0.01519236227663847, 'num_leaves': 81, 'max_depth': 10, 'min_child_samples': 45, 'feature_fraction': 0.714738507625099, 'bagging_fraction': 0.6596891679202133, 'bagging_freq': 5, 'lambda_l1': 0.5413076699687963, 'lambda_l2': 2.218565683906981e-07}. Best is trial 14 with value: 0.9389666492397207.\n"
     ]
    },
    {
     "name": "stderr",
     "output_type": "stream",
     "text": [
      "Best trial: 14. Best value: 0.938967:  21%|██        | 21/100 [38:34<3:32:08, 161.12s/it]"
     ]
    },
    {
     "name": "stdout",
     "output_type": "stream",
     "text": [
      "[I 2025-10-21 03:02:29,935] Trial 20 finished with value: 0.9389063097164749 and parameters: {'learning_rate': 0.044008542043401384, 'num_leaves': 92, 'max_depth': 8, 'min_child_samples': 73, 'feature_fraction': 0.6483331577366809, 'bagging_fraction': 0.7635374086414235, 'bagging_freq': 4, 'lambda_l1': 6.939259067991768, 'lambda_l2': 1.6726771080936853e-06}. Best is trial 14 with value: 0.9389666492397207.\n"
     ]
    },
    {
     "name": "stderr",
     "output_type": "stream",
     "text": [
      "Best trial: 14. Best value: 0.938967:  22%|██▏       | 22/100 [41:23<3:32:28, 163.45s/it]"
     ]
    },
    {
     "name": "stdout",
     "output_type": "stream",
     "text": [
      "[I 2025-10-21 03:05:18,808] Trial 21 finished with value: 0.9387895166602263 and parameters: {'learning_rate': 0.014388481080993462, 'num_leaves': 77, 'max_depth': 10, 'min_child_samples': 89, 'feature_fraction': 0.6608845951226913, 'bagging_fraction': 0.7032963866161328, 'bagging_freq': 5, 'lambda_l1': 0.09998872189422403, 'lambda_l2': 8.370458045545226e-08}. Best is trial 14 with value: 0.9389666492397207.\n"
     ]
    },
    {
     "name": "stderr",
     "output_type": "stream",
     "text": [
      "Best trial: 22. Best value: 0.938998:  23%|██▎       | 23/100 [44:28<3:37:56, 169.83s/it]"
     ]
    },
    {
     "name": "stdout",
     "output_type": "stream",
     "text": [
      "[I 2025-10-21 03:08:23,535] Trial 22 finished with value: 0.9389981384477422 and parameters: {'learning_rate': 0.01773598185792223, 'num_leaves': 89, 'max_depth': 11, 'min_child_samples': 92, 'feature_fraction': 0.7097710189452361, 'bagging_fraction': 0.7379554426891572, 'bagging_freq': 6, 'lambda_l1': 0.4207907746820071, 'lambda_l2': 6.566114603422185e-08}. Best is trial 22 with value: 0.9389981384477422.\n"
     ]
    },
    {
     "name": "stderr",
     "output_type": "stream",
     "text": [
      "Best trial: 22. Best value: 0.938998:  24%|██▍       | 24/100 [47:49<3:46:50, 179.09s/it]"
     ]
    },
    {
     "name": "stdout",
     "output_type": "stream",
     "text": [
      "[I 2025-10-21 03:11:44,208] Trial 23 finished with value: 0.9388744935377072 and parameters: {'learning_rate': 0.023345191777255223, 'num_leaves': 89, 'max_depth': 11, 'min_child_samples': 94, 'feature_fraction': 0.7158695069478597, 'bagging_fraction': 0.8183858067494926, 'bagging_freq': 6, 'lambda_l1': 0.007655874925810497, 'lambda_l2': 3.4032810261226566e-08}. Best is trial 22 with value: 0.9389981384477422.\n"
     ]
    },
    {
     "name": "stderr",
     "output_type": "stream",
     "text": [
      "Best trial: 22. Best value: 0.938998:  25%|██▌       | 25/100 [51:42<4:04:01, 195.22s/it]"
     ]
    },
    {
     "name": "stdout",
     "output_type": "stream",
     "text": [
      "[I 2025-10-21 03:15:37,064] Trial 24 finished with value: 0.9389589679092587 and parameters: {'learning_rate': 0.016941348929213892, 'num_leaves': 99, 'max_depth': 11, 'min_child_samples': 82, 'feature_fraction': 0.6281906440350511, 'bagging_fraction': 0.7656124349329978, 'bagging_freq': 7, 'lambda_l1': 0.30777853071441796, 'lambda_l2': 7.040191289488189e-07}. Best is trial 22 with value: 0.9389981384477422.\n"
     ]
    },
    {
     "name": "stderr",
     "output_type": "stream",
     "text": [
      "Best trial: 25. Best value: 0.939134:  26%|██▌       | 26/100 [56:23<4:32:40, 221.08s/it]"
     ]
    },
    {
     "name": "stdout",
     "output_type": "stream",
     "text": [
      "[I 2025-10-21 03:20:18,492] Trial 25 finished with value: 0.9391338377596956 and parameters: {'learning_rate': 0.01763276183082495, 'num_leaves': 94, 'max_depth': 11, 'min_child_samples': 80, 'feature_fraction': 0.6274758068294414, 'bagging_fraction': 0.742683842624612, 'bagging_freq': 7, 'lambda_l1': 1.9546591361048697, 'lambda_l2': 6.156072137669169e-07}. Best is trial 25 with value: 0.9391338377596956.\n"
     ]
    },
    {
     "name": "stderr",
     "output_type": "stream",
     "text": [
      "Best trial: 25. Best value: 0.939134:  27%|██▋       | 27/100 [59:15<4:11:08, 206.42s/it]"
     ]
    },
    {
     "name": "stdout",
     "output_type": "stream",
     "text": [
      "[I 2025-10-21 03:23:10,710] Trial 26 finished with value: 0.938506833314437 and parameters: {'learning_rate': 0.012970168659526611, 'num_leaves': 71, 'max_depth': 9, 'min_child_samples': 67, 'feature_fraction': 0.7667734627853944, 'bagging_fraction': 0.7340158960921705, 'bagging_freq': 7, 'lambda_l1': 1.7029586740047626, 'lambda_l2': 4.4946489564897925e-07}. Best is trial 25 with value: 0.9391338377596956.\n"
     ]
    },
    {
     "name": "stderr",
     "output_type": "stream",
     "text": [
      "Best trial: 27. Best value: 0.939144:  28%|██▊       | 28/100 [1:02:52<4:11:17, 209.41s/it]"
     ]
    },
    {
     "name": "stdout",
     "output_type": "stream",
     "text": [
      "[I 2025-10-21 03:26:47,082] Trial 27 finished with value: 0.9391440354879347 and parameters: {'learning_rate': 0.01817586269576007, 'num_leaves': 85, 'max_depth': 11, 'min_child_samples': 99, 'feature_fraction': 0.7030898882973092, 'bagging_fraction': 0.6710653586241012, 'bagging_freq': 6, 'lambda_l1': 2.1958569071583196, 'lambda_l2': 1.3602040812388313e-05}. Best is trial 27 with value: 0.9391440354879347.\n"
     ]
    },
    {
     "name": "stderr",
     "output_type": "stream",
     "text": [
      "Best trial: 27. Best value: 0.939144:  29%|██▉       | 29/100 [1:06:21<4:07:48, 209.42s/it]"
     ]
    },
    {
     "name": "stdout",
     "output_type": "stream",
     "text": [
      "[I 2025-10-21 03:30:16,516] Trial 28 finished with value: 0.939067662971347 and parameters: {'learning_rate': 0.018874644249475162, 'num_leaves': 85, 'max_depth': 11, 'min_child_samples': 100, 'feature_fraction': 0.7365590789186207, 'bagging_fraction': 0.6754049879337627, 'bagging_freq': 6, 'lambda_l1': 2.212612619106049, 'lambda_l2': 1.1136580358064139e-05}. Best is trial 27 with value: 0.9391440354879347.\n"
     ]
    },
    {
     "name": "stderr",
     "output_type": "stream",
     "text": [
      "Best trial: 27. Best value: 0.939144:  30%|███       | 30/100 [1:08:14<3:30:33, 180.47s/it]"
     ]
    },
    {
     "name": "stdout",
     "output_type": "stream",
     "text": [
      "[I 2025-10-21 03:32:09,455] Trial 29 finished with value: 0.9370376738876185 and parameters: {'learning_rate': 0.012412944857522644, 'num_leaves': 84, 'max_depth': 6, 'min_child_samples': 100, 'feature_fraction': 0.7418786741399738, 'bagging_fraction': 0.6529941829842775, 'bagging_freq': 7, 'lambda_l1': 2.6638898251060095, 'lambda_l2': 1.6498084816066202e-05}. Best is trial 27 with value: 0.9391440354879347.\n"
     ]
    },
    {
     "name": "stderr",
     "output_type": "stream",
     "text": [
      "Best trial: 27. Best value: 0.939144:  31%|███       | 31/100 [1:11:11<3:26:13, 179.33s/it]"
     ]
    },
    {
     "name": "stdout",
     "output_type": "stream",
     "text": [
      "[I 2025-10-21 03:35:06,124] Trial 30 finished with value: 0.9386445349379002 and parameters: {'learning_rate': 0.019034335030194582, 'num_leaves': 84, 'max_depth': 12, 'min_child_samples': 63, 'feature_fraction': 0.8173736302168162, 'bagging_fraction': 0.6504978733433786, 'bagging_freq': 7, 'lambda_l1': 0.0007755364257396373, 'lambda_l2': 4.806841707129411e-06}. Best is trial 27 with value: 0.9391440354879347.\n"
     ]
    },
    {
     "name": "stderr",
     "output_type": "stream",
     "text": [
      "Best trial: 27. Best value: 0.939144:  32%|███▏      | 32/100 [1:14:25<3:28:28, 183.94s/it]"
     ]
    },
    {
     "name": "stdout",
     "output_type": "stream",
     "text": [
      "[I 2025-10-21 03:38:20,833] Trial 31 finished with value: 0.9390062817774458 and parameters: {'learning_rate': 0.018495801974620057, 'num_leaves': 88, 'max_depth': 11, 'min_child_samples': 94, 'feature_fraction': 0.7008564586164496, 'bagging_fraction': 0.6863555142694955, 'bagging_freq': 6, 'lambda_l1': 0.9603440043986216, 'lambda_l2': 6.226471282467806e-06}. Best is trial 27 with value: 0.9391440354879347.\n"
     ]
    },
    {
     "name": "stderr",
     "output_type": "stream",
     "text": [
      "Best trial: 27. Best value: 0.939144:  33%|███▎      | 33/100 [1:17:03<3:16:29, 175.96s/it]"
     ]
    },
    {
     "name": "stdout",
     "output_type": "stream",
     "text": [
      "[I 2025-10-21 03:40:58,147] Trial 32 finished with value: 0.939031276963652 and parameters: {'learning_rate': 0.028793344061559496, 'num_leaves': 92, 'max_depth': 11, 'min_child_samples': 99, 'feature_fraction': 0.6950689819037411, 'bagging_fraction': 0.6751954252038588, 'bagging_freq': 6, 'lambda_l1': 3.221668452619519, 'lambda_l2': 9.05108704873999e-06}. Best is trial 27 with value: 0.9391440354879347.\n"
     ]
    },
    {
     "name": "stderr",
     "output_type": "stream",
     "text": [
      "Best trial: 27. Best value: 0.939144:  34%|███▍      | 34/100 [1:20:18<3:20:01, 181.84s/it]"
     ]
    },
    {
     "name": "stdout",
     "output_type": "stream",
     "text": [
      "[I 2025-10-21 03:44:13,732] Trial 33 finished with value: 0.9388873021893742 and parameters: {'learning_rate': 0.027903844912524376, 'num_leaves': 94, 'max_depth': 12, 'min_child_samples': 77, 'feature_fraction': 0.6299979478271668, 'bagging_fraction': 0.671144827795762, 'bagging_freq': 7, 'lambda_l1': 9.458134751437672, 'lambda_l2': 5.855498557454029e-05}. Best is trial 27 with value: 0.9391440354879347.\n"
     ]
    },
    {
     "name": "stderr",
     "output_type": "stream",
     "text": [
      "Best trial: 27. Best value: 0.939144:  35%|███▌      | 35/100 [1:23:08<3:12:57, 178.12s/it]"
     ]
    },
    {
     "name": "stdout",
     "output_type": "stream",
     "text": [
      "[I 2025-10-21 03:47:03,148] Trial 34 finished with value: 0.9390300134606511 and parameters: {'learning_rate': 0.020908626281142383, 'num_leaves': 75, 'max_depth': 11, 'min_child_samples': 100, 'feature_fraction': 0.747480415306735, 'bagging_fraction': 0.6327983881511275, 'bagging_freq': 6, 'lambda_l1': 2.778800596481673, 'lambda_l2': 9.95577178675302e-06}. Best is trial 27 with value: 0.9391440354879347.\n"
     ]
    },
    {
     "name": "stderr",
     "output_type": "stream",
     "text": [
      "Best trial: 27. Best value: 0.939144:  36%|███▌      | 36/100 [1:24:39<2:42:05, 151.96s/it]"
     ]
    },
    {
     "name": "stdout",
     "output_type": "stream",
     "text": [
      "[I 2025-10-21 03:48:34,088] Trial 35 finished with value: 0.9385930722504323 and parameters: {'learning_rate': 0.03803736132400814, 'num_leaves': 62, 'max_depth': 9, 'min_child_samples': 55, 'feature_fraction': 0.6374465925919145, 'bagging_fraction': 0.7129662536270431, 'bagging_freq': 7, 'lambda_l1': 0.1608585209638799, 'lambda_l2': 8.895426700715531e-05}. Best is trial 27 with value: 0.9391440354879347.\n"
     ]
    },
    {
     "name": "stderr",
     "output_type": "stream",
     "text": [
      "Best trial: 27. Best value: 0.939144:  37%|███▋      | 37/100 [1:27:30<2:45:34, 157.70s/it]"
     ]
    },
    {
     "name": "stdout",
     "output_type": "stream",
     "text": [
      "[I 2025-10-21 03:51:25,164] Trial 36 finished with value: 0.9389981442348588 and parameters: {'learning_rate': 0.021329552911312517, 'num_leaves': 94, 'max_depth': 8, 'min_child_samples': 94, 'feature_fraction': 0.6886081028423751, 'bagging_fraction': 0.6768268124975672, 'bagging_freq': 6, 'lambda_l1': 2.90567591653913, 'lambda_l2': 0.0016777488442678858}. Best is trial 27 with value: 0.9391440354879347.\n"
     ]
    },
    {
     "name": "stderr",
     "output_type": "stream",
     "text": [
      "Best trial: 27. Best value: 0.939144:  38%|███▊      | 38/100 [1:29:19<2:27:48, 143.04s/it]"
     ]
    },
    {
     "name": "stdout",
     "output_type": "stream",
     "text": [
      "[I 2025-10-21 03:53:13,989] Trial 37 finished with value: 0.9388588516577558 and parameters: {'learning_rate': 0.030545388302387427, 'num_leaves': 67, 'max_depth': 11, 'min_child_samples': 82, 'feature_fraction': 0.738257417259313, 'bagging_fraction': 0.6362217957018814, 'bagging_freq': 7, 'lambda_l1': 0.9912344570636648, 'lambda_l2': 1.9580078589020885e-06}. Best is trial 27 with value: 0.9391440354879347.\n"
     ]
    },
    {
     "name": "stderr",
     "output_type": "stream",
     "text": [
      "Best trial: 27. Best value: 0.939144:  39%|███▉      | 39/100 [1:32:37<2:42:21, 159.70s/it]"
     ]
    },
    {
     "name": "stdout",
     "output_type": "stream",
     "text": [
      "[I 2025-10-21 03:56:32,571] Trial 38 finished with value: 0.9380955388109378 and parameters: {'learning_rate': 0.010117305201344377, 'num_leaves': 81, 'max_depth': 12, 'min_child_samples': 78, 'feature_fraction': 0.7710599412450112, 'bagging_fraction': 0.8187652407958387, 'bagging_freq': 6, 'lambda_l1': 1.7840589549272097e-05, 'lambda_l2': 3.4464342647632e-05}. Best is trial 27 with value: 0.9391440354879347.\n"
     ]
    },
    {
     "name": "stderr",
     "output_type": "stream",
     "text": [
      "Best trial: 27. Best value: 0.939144:  40%|████      | 40/100 [1:34:22<2:23:15, 143.26s/it]"
     ]
    },
    {
     "name": "stdout",
     "output_type": "stream",
     "text": [
      "[I 2025-10-21 03:58:17,461] Trial 39 finished with value: 0.9384857974257791 and parameters: {'learning_rate': 0.02381893214091947, 'num_leaves': 86, 'max_depth': 6, 'min_child_samples': 96, 'feature_fraction': 0.611793273542467, 'bagging_fraction': 0.7166940853691817, 'bagging_freq': 7, 'lambda_l1': 4.960370981533326, 'lambda_l2': 1.026217149188781e-06}. Best is trial 27 with value: 0.9391440354879347.\n"
     ]
    },
    {
     "name": "stderr",
     "output_type": "stream",
     "text": [
      "Best trial: 27. Best value: 0.939144:  41%|████      | 41/100 [1:37:04<2:26:16, 148.76s/it]"
     ]
    },
    {
     "name": "stdout",
     "output_type": "stream",
     "text": [
      "[I 2025-10-21 04:00:59,056] Trial 40 finished with value: 0.9388544983554604 and parameters: {'learning_rate': 0.016955050034455244, 'num_leaves': 71, 'max_depth': 9, 'min_child_samples': 91, 'feature_fraction': 0.6995362748921833, 'bagging_fraction': 0.6928998009006062, 'bagging_freq': 5, 'lambda_l1': 1.0097405416804612e-06, 'lambda_l2': 8.208814110490828e-06}. Best is trial 27 with value: 0.9391440354879347.\n"
     ]
    },
    {
     "name": "stderr",
     "output_type": "stream",
     "text": [
      "Best trial: 27. Best value: 0.939144:  42%|████▏     | 42/100 [1:39:57<2:30:49, 156.02s/it]"
     ]
    },
    {
     "name": "stdout",
     "output_type": "stream",
     "text": [
      "[I 2025-10-21 04:03:52,027] Trial 41 finished with value: 0.9389962248691113 and parameters: {'learning_rate': 0.020470216322384115, 'num_leaves': 77, 'max_depth': 11, 'min_child_samples': 100, 'feature_fraction': 0.7383142404179803, 'bagging_fraction': 0.6327473818668616, 'bagging_freq': 6, 'lambda_l1': 2.0164881395250984, 'lambda_l2': 1.926016791319463e-05}. Best is trial 27 with value: 0.9391440354879347.\n"
     ]
    },
    {
     "name": "stderr",
     "output_type": "stream",
     "text": [
      "Best trial: 27. Best value: 0.939144:  43%|████▎     | 43/100 [1:42:54<2:34:11, 162.31s/it]"
     ]
    },
    {
     "name": "stdout",
     "output_type": "stream",
     "text": [
      "[I 2025-10-21 04:06:49,011] Trial 42 finished with value: 0.9389196285885031 and parameters: {'learning_rate': 0.020323473920892798, 'num_leaves': 90, 'max_depth': 11, 'min_child_samples': 100, 'feature_fraction': 0.7575431497360359, 'bagging_fraction': 0.6356847510942049, 'bagging_freq': 6, 'lambda_l1': 0.915424224890168, 'lambda_l2': 4.024045934059948e-06}. Best is trial 27 with value: 0.9391440354879347.\n"
     ]
    },
    {
     "name": "stderr",
     "output_type": "stream",
     "text": [
      "Best trial: 27. Best value: 0.939144:  44%|████▍     | 44/100 [1:45:31<2:30:10, 160.91s/it]"
     ]
    },
    {
     "name": "stdout",
     "output_type": "stream",
     "text": [
      "[I 2025-10-21 04:09:26,648] Trial 43 finished with value: 0.9387717856573443 and parameters: {'learning_rate': 0.02522741601714792, 'num_leaves': 95, 'max_depth': 12, 'min_child_samples': 96, 'feature_fraction': 0.7975996208242385, 'bagging_fraction': 0.6004709155781051, 'bagging_freq': 6, 'lambda_l1': 2.6058508492487307, 'lambda_l2': 9.788592200992627e-06}. Best is trial 27 with value: 0.9391440354879347.\n"
     ]
    },
    {
     "name": "stderr",
     "output_type": "stream",
     "text": [
      "Best trial: 27. Best value: 0.939144:  45%|████▌     | 45/100 [1:47:24<2:14:09, 146.36s/it]"
     ]
    },
    {
     "name": "stdout",
     "output_type": "stream",
     "text": [
      "[I 2025-10-21 04:11:19,070] Trial 44 finished with value: 0.9382940549857111 and parameters: {'learning_rate': 0.02981417944033522, 'num_leaves': 87, 'max_depth': 10, 'min_child_samples': 90, 'feature_fraction': 0.9756631547128407, 'bagging_fraction': 0.6660147581366419, 'bagging_freq': 6, 'lambda_l1': 0.22553349443755916, 'lambda_l2': 7.454020632292096e-05}. Best is trial 27 with value: 0.9391440354879347.\n"
     ]
    },
    {
     "name": "stderr",
     "output_type": "stream",
     "text": [
      "Best trial: 27. Best value: 0.939144:  46%|████▌     | 46/100 [1:50:26<2:21:29, 157.21s/it]"
     ]
    },
    {
     "name": "stdout",
     "output_type": "stream",
     "text": [
      "[I 2025-10-21 04:14:21,586] Trial 45 finished with value: 0.9387903094873777 and parameters: {'learning_rate': 0.02169138921031036, 'num_leaves': 82, 'max_depth': 11, 'min_child_samples': 80, 'feature_fraction': 0.7833441702651786, 'bagging_fraction': 0.6264710699482171, 'bagging_freq': 7, 'lambda_l1': 9.810959902268877, 'lambda_l2': 4.5910995765646365e-07}. Best is trial 27 with value: 0.9391440354879347.\n"
     ]
    },
    {
     "name": "stderr",
     "output_type": "stream",
     "text": [
      "Best trial: 27. Best value: 0.939144:  47%|████▋     | 47/100 [1:52:06<2:03:34, 139.90s/it]"
     ]
    },
    {
     "name": "stdout",
     "output_type": "stream",
     "text": [
      "[I 2025-10-21 04:16:01,096] Trial 46 finished with value: 0.9385477095797196 and parameters: {'learning_rate': 0.03544017160449496, 'num_leaves': 76, 'max_depth': 12, 'min_child_samples': 71, 'feature_fraction': 0.8486003525265343, 'bagging_fraction': 0.7479923396188655, 'bagging_freq': 5, 'lambda_l1': 0.0015719242941110265, 'lambda_l2': 0.0013679071444863502}. Best is trial 27 with value: 0.9391440354879347.\n"
     ]
    },
    {
     "name": "stderr",
     "output_type": "stream",
     "text": [
      "Best trial: 27. Best value: 0.939144:  48%|████▊     | 48/100 [1:53:06<1:40:29, 115.94s/it]"
     ]
    },
    {
     "name": "stdout",
     "output_type": "stream",
     "text": [
      "[I 2025-10-21 04:17:01,140] Trial 47 finished with value: 0.9324562020086689 and parameters: {'learning_rate': 0.01165539741990584, 'num_leaves': 73, 'max_depth': 4, 'min_child_samples': 96, 'feature_fraction': 0.7303542421685899, 'bagging_fraction': 0.8696571110582773, 'bagging_freq': 2, 'lambda_l1': 0.0001923373884889654, 'lambda_l2': 0.00019042834725360527}. Best is trial 27 with value: 0.9391440354879347.\n"
     ]
    },
    {
     "name": "stderr",
     "output_type": "stream",
     "text": [
      "Best trial: 27. Best value: 0.939144:  49%|████▉     | 49/100 [1:54:24<1:28:55, 104.62s/it]"
     ]
    },
    {
     "name": "stdout",
     "output_type": "stream",
     "text": [
      "[I 2025-10-21 04:18:19,347] Trial 48 finished with value: 0.9375602444665516 and parameters: {'learning_rate': 0.019225396753768893, 'num_leaves': 23, 'max_depth': 10, 'min_child_samples': 74, 'feature_fraction': 0.6940412065070208, 'bagging_fraction': 0.6538091386714366, 'bagging_freq': 6, 'lambda_l1': 0.7650700728502035, 'lambda_l2': 4.178726578734714e-06}. Best is trial 27 with value: 0.9391440354879347.\n"
     ]
    },
    {
     "name": "stderr",
     "output_type": "stream",
     "text": [
      "Best trial: 27. Best value: 0.939144:  50%|█████     | 50/100 [1:56:57<1:39:15, 119.11s/it]"
     ]
    },
    {
     "name": "stdout",
     "output_type": "stream",
     "text": [
      "[I 2025-10-21 04:20:52,267] Trial 49 finished with value: 0.9387148947217264 and parameters: {'learning_rate': 0.01616917106176942, 'num_leaves': 64, 'max_depth': 12, 'min_child_samples': 86, 'feature_fraction': 0.6428327316459835, 'bagging_fraction': 0.7283965939908159, 'bagging_freq': 7, 'lambda_l1': 0.01629459896250214, 'lambda_l2': 4.3474512774444654e-05}. Best is trial 27 with value: 0.9391440354879347.\n"
     ]
    },
    {
     "name": "stderr",
     "output_type": "stream",
     "text": [
      "Best trial: 27. Best value: 0.939144:  51%|█████     | 51/100 [1:58:34<1:31:47, 112.39s/it]"
     ]
    },
    {
     "name": "stdout",
     "output_type": "stream",
     "text": [
      "[I 2025-10-21 04:22:28,986] Trial 50 finished with value: 0.9385545961560601 and parameters: {'learning_rate': 0.027135073305014728, 'num_leaves': 35, 'max_depth': 10, 'min_child_samples': 57, 'feature_fraction': 0.752997839437967, 'bagging_fraction': 0.6844559212699801, 'bagging_freq': 4, 'lambda_l1': 1.8081527031811992e-07, 'lambda_l2': 0.05740869329198545}. Best is trial 27 with value: 0.9391440354879347.\n"
     ]
    },
    {
     "name": "stderr",
     "output_type": "stream",
     "text": [
      "Best trial: 27. Best value: 0.939144:  52%|█████▏    | 52/100 [2:01:41<1:48:03, 135.07s/it]"
     ]
    },
    {
     "name": "stdout",
     "output_type": "stream",
     "text": [
      "[I 2025-10-21 04:25:36,974] Trial 51 finished with value: 0.9390318460202851 and parameters: {'learning_rate': 0.018262381476388267, 'num_leaves': 87, 'max_depth': 11, 'min_child_samples': 94, 'feature_fraction': 0.7031958101693354, 'bagging_fraction': 0.6932471430547305, 'bagging_freq': 6, 'lambda_l1': 1.1918025070195093, 'lambda_l2': 1.019389371349336e-05}. Best is trial 27 with value: 0.9391440354879347.\n"
     ]
    },
    {
     "name": "stderr",
     "output_type": "stream",
     "text": [
      "Best trial: 27. Best value: 0.939144:  53%|█████▎    | 53/100 [2:05:08<2:02:32, 156.45s/it]"
     ]
    },
    {
     "name": "stdout",
     "output_type": "stream",
     "text": [
      "[I 2025-10-21 04:29:03,294] Trial 52 finished with value: 0.9388648417250011 and parameters: {'learning_rate': 0.014065681383639447, 'num_leaves': 95, 'max_depth': 11, 'min_child_samples': 97, 'feature_fraction': 0.7260031702870201, 'bagging_fraction': 0.6973405360421843, 'bagging_freq': 5, 'lambda_l1': 4.555903242283492, 'lambda_l2': 1.4200061346191303e-05}. Best is trial 27 with value: 0.9391440354879347.\n"
     ]
    },
    {
     "name": "stderr",
     "output_type": "stream",
     "text": [
      "Best trial: 27. Best value: 0.939144:  54%|█████▍    | 54/100 [2:08:16<2:07:07, 165.82s/it]"
     ]
    },
    {
     "name": "stdout",
     "output_type": "stream",
     "text": [
      "[I 2025-10-21 04:32:10,997] Trial 53 finished with value: 0.9389834113994991 and parameters: {'learning_rate': 0.017959155817702896, 'num_leaves': 91, 'max_depth': 11, 'min_child_samples': 88, 'feature_fraction': 0.6802736921270676, 'bagging_fraction': 0.7188636070217335, 'bagging_freq': 6, 'lambda_l1': 0.059904107429953384, 'lambda_l2': 2.421379576324006e-06}. Best is trial 27 with value: 0.9391440354879347.\n"
     ]
    },
    {
     "name": "stderr",
     "output_type": "stream",
     "text": [
      "Best trial: 54. Best value: 0.939182:  55%|█████▌    | 55/100 [2:11:06<2:05:31, 167.37s/it]"
     ]
    },
    {
     "name": "stdout",
     "output_type": "stream",
     "text": [
      "[I 2025-10-21 04:35:01,978] Trial 54 finished with value: 0.9391817419040718 and parameters: {'learning_rate': 0.022773830683037496, 'num_leaves': 86, 'max_depth': 10, 'min_child_samples': 93, 'feature_fraction': 0.656112353200644, 'bagging_fraction': 0.6742688787805228, 'bagging_freq': 5, 'lambda_l1': 3.6640860245814126, 'lambda_l2': 2.1626043685350242}. Best is trial 54 with value: 0.9391817419040718.\n"
     ]
    },
    {
     "name": "stderr",
     "output_type": "stream",
     "text": [
      "Best trial: 54. Best value: 0.939182:  56%|█████▌    | 56/100 [2:13:50<2:01:52, 166.20s/it]"
     ]
    },
    {
     "name": "stdout",
     "output_type": "stream",
     "text": [
      "[I 2025-10-21 04:37:45,435] Trial 55 finished with value: 0.9390075221294957 and parameters: {'learning_rate': 0.02299317494060257, 'num_leaves': 85, 'max_depth': 10, 'min_child_samples': 30, 'feature_fraction': 0.6601906283959207, 'bagging_fraction': 0.6658302232148774, 'bagging_freq': 5, 'lambda_l1': 0.13754105188800025, 'lambda_l2': 0.6052946140743304}. Best is trial 54 with value: 0.9391817419040718.\n"
     ]
    },
    {
     "name": "stderr",
     "output_type": "stream",
     "text": [
      "Best trial: 54. Best value: 0.939182:  57%|█████▋    | 57/100 [2:15:35<1:45:51, 147.71s/it]"
     ]
    },
    {
     "name": "stdout",
     "output_type": "stream",
     "text": [
      "[I 2025-10-21 04:39:30,018] Trial 56 finished with value: 0.9387142706894475 and parameters: {'learning_rate': 0.04634112513351397, 'num_leaves': 96, 'max_depth': 12, 'min_child_samples': 92, 'feature_fraction': 0.6126815665545472, 'bagging_fraction': 0.7036906175752556, 'bagging_freq': 6, 'lambda_l1': 0.4670884625149508, 'lambda_l2': 6.726540570377841}. Best is trial 54 with value: 0.9391817419040718.\n"
     ]
    },
    {
     "name": "stderr",
     "output_type": "stream",
     "text": [
      "Best trial: 54. Best value: 0.939182:  58%|█████▊    | 58/100 [2:18:35<1:50:21, 157.64s/it]"
     ]
    },
    {
     "name": "stdout",
     "output_type": "stream",
     "text": [
      "[I 2025-10-21 04:42:30,832] Trial 57 finished with value: 0.939025075184418 and parameters: {'learning_rate': 0.025186899775296135, 'num_leaves': 92, 'max_depth': 10, 'min_child_samples': 48, 'feature_fraction': 0.6000004045653002, 'bagging_fraction': 0.7494119163795095, 'bagging_freq': 5, 'lambda_l1': 1.0842542936367485, 'lambda_l2': 1.2942547340423411}. Best is trial 54 with value: 0.9391817419040718.\n"
     ]
    },
    {
     "name": "stderr",
     "output_type": "stream",
     "text": [
      "Best trial: 54. Best value: 0.939182:  59%|█████▉    | 59/100 [2:21:29<1:51:00, 162.44s/it]"
     ]
    },
    {
     "name": "stdout",
     "output_type": "stream",
     "text": [
      "[I 2025-10-21 04:45:24,482] Trial 58 finished with value: 0.9388863270694425 and parameters: {'learning_rate': 0.015607677421893678, 'num_leaves': 80, 'max_depth': 9, 'min_child_samples': 13, 'feature_fraction': 0.654108252020597, 'bagging_fraction': 0.6784243670869521, 'bagging_freq': 5, 'lambda_l1': 4.658200767251037, 'lambda_l2': 0.008836999831860497}. Best is trial 54 with value: 0.9391817419040718.\n"
     ]
    },
    {
     "name": "stderr",
     "output_type": "stream",
     "text": [
      "Best trial: 54. Best value: 0.939182:  60%|██████    | 60/100 [2:23:28<1:39:31, 149.30s/it]"
     ]
    },
    {
     "name": "stdout",
     "output_type": "stream",
     "text": [
      "[I 2025-10-21 04:47:23,104] Trial 59 finished with value: 0.9383009700119651 and parameters: {'learning_rate': 0.016328273623199035, 'num_leaves': 54, 'max_depth': 7, 'min_child_samples': 93, 'feature_fraction': 0.6708591723069397, 'bagging_fraction': 0.6451564338020723, 'bagging_freq': 4, 'lambda_l1': 1.1641130249260093e-05, 'lambda_l2': 0.0005212321136235583}. Best is trial 54 with value: 0.9391817419040718.\n"
     ]
    },
    {
     "name": "stderr",
     "output_type": "stream",
     "text": [
      "Best trial: 54. Best value: 0.939182:  61%|██████    | 61/100 [2:25:34<1:32:28, 142.28s/it]"
     ]
    },
    {
     "name": "stdout",
     "output_type": "stream",
     "text": [
      "[I 2025-10-21 04:49:28,983] Trial 60 finished with value: 0.9388377313773952 and parameters: {'learning_rate': 0.03286755295154021, 'num_leaves': 83, 'max_depth': 11, 'min_child_samples': 84, 'feature_fraction': 0.6224121261631503, 'bagging_fraction': 0.7741365123892926, 'bagging_freq': 6, 'lambda_l1': 0.042461191284837975, 'lambda_l2': 1.0731363479473938e-06}. Best is trial 54 with value: 0.9391817419040718.\n"
     ]
    },
    {
     "name": "stderr",
     "output_type": "stream",
     "text": [
      "Best trial: 54. Best value: 0.939182:  62%|██████▏   | 62/100 [2:28:33<1:37:05, 153.29s/it]"
     ]
    },
    {
     "name": "stdout",
     "output_type": "stream",
     "text": [
      "[I 2025-10-21 04:52:28,000] Trial 61 finished with value: 0.9390025645703381 and parameters: {'learning_rate': 0.02048391290764381, 'num_leaves': 87, 'max_depth': 11, 'min_child_samples': 98, 'feature_fraction': 0.7140265948228857, 'bagging_fraction': 0.6254282555876042, 'bagging_freq': 6, 'lambda_l1': 1.5629048739692908, 'lambda_l2': 2.5370909848796523e-05}. Best is trial 54 with value: 0.9391817419040718.\n"
     ]
    },
    {
     "name": "stderr",
     "output_type": "stream",
     "text": [
      "Best trial: 54. Best value: 0.939182:  63%|██████▎   | 63/100 [2:29:19<1:14:51, 121.40s/it]"
     ]
    },
    {
     "name": "stdout",
     "output_type": "stream",
     "text": [
      "[I 2025-10-21 04:53:14,978] Trial 62 finished with value: 0.9379400087630876 and parameters: {'learning_rate': 0.08816199895926757, 'num_leaves': 78, 'max_depth': 11, 'min_child_samples': 89, 'feature_fraction': 0.7043506650732531, 'bagging_fraction': 0.6070378565439007, 'bagging_freq': 6, 'lambda_l1': 3.7635604115829913, 'lambda_l2': 2.8660532557798646e-07}. Best is trial 54 with value: 0.9391817419040718.\n"
     ]
    },
    {
     "name": "stderr",
     "output_type": "stream",
     "text": [
      "Best trial: 54. Best value: 0.939182:  64%|██████▍   | 64/100 [2:32:53<1:29:28, 149.14s/it]"
     ]
    },
    {
     "name": "stdout",
     "output_type": "stream",
     "text": [
      "[I 2025-10-21 04:56:48,837] Trial 63 finished with value: 0.9388560926828522 and parameters: {'learning_rate': 0.01393095331561759, 'num_leaves': 97, 'max_depth': 12, 'min_child_samples': 97, 'feature_fraction': 0.676782535626162, 'bagging_fraction': 0.9416607488208925, 'bagging_freq': 5, 'lambda_l1': 0.4510157023434437, 'lambda_l2': 0.0001186781045446615}. Best is trial 54 with value: 0.9391817419040718.\n"
     ]
    },
    {
     "name": "stderr",
     "output_type": "stream",
     "text": [
      "Best trial: 54. Best value: 0.939182:  65%|██████▌   | 65/100 [2:36:14<1:35:55, 164.44s/it]"
     ]
    },
    {
     "name": "stdout",
     "output_type": "stream",
     "text": [
      "[I 2025-10-21 05:00:08,986] Trial 64 finished with value: 0.9390260329424229 and parameters: {'learning_rate': 0.01746538071208125, 'num_leaves': 92, 'max_depth': 10, 'min_child_samples': 100, 'feature_fraction': 0.6928604607725072, 'bagging_fraction': 0.6634234421711217, 'bagging_freq': 7, 'lambda_l1': 1.411596379071088, 'lambda_l2': 3.4319129212942765e-06}. Best is trial 54 with value: 0.9391817419040718.\n"
     ]
    },
    {
     "name": "stderr",
     "output_type": "stream",
     "text": [
      "Best trial: 54. Best value: 0.939182:  66%|██████▌   | 66/100 [2:39:28<1:38:16, 173.43s/it]"
     ]
    },
    {
     "name": "stdout",
     "output_type": "stream",
     "text": [
      "[I 2025-10-21 05:03:23,384] Trial 65 finished with value: 0.9391348234871 and parameters: {'learning_rate': 0.02239169809299018, 'num_leaves': 89, 'max_depth': 11, 'min_child_samples': 94, 'feature_fraction': 0.7253017043100053, 'bagging_fraction': 0.6465022661880447, 'bagging_freq': 6, 'lambda_l1': 5.829764518133656, 'lambda_l2': 9.170241093513059e-06}. Best is trial 54 with value: 0.9391817419040718.\n"
     ]
    },
    {
     "name": "stderr",
     "output_type": "stream",
     "text": [
      "Best trial: 54. Best value: 0.939182:  67%|██████▋   | 67/100 [2:42:41<1:38:33, 179.20s/it]"
     ]
    },
    {
     "name": "stdout",
     "output_type": "stream",
     "text": [
      "[I 2025-10-21 05:06:36,040] Trial 66 finished with value: 0.9389677150225714 and parameters: {'learning_rate': 0.023170382224758545, 'num_leaves': 90, 'max_depth': 10, 'min_child_samples': 87, 'feature_fraction': 0.6514371332122941, 'bagging_fraction': 0.6946125252169162, 'bagging_freq': 5, 'lambda_l1': 9.990034820116897, 'lambda_l2': 1.2522114064281986e-06}. Best is trial 54 with value: 0.9391817419040718.\n"
     ]
    },
    {
     "name": "stderr",
     "output_type": "stream",
     "text": [
      "Best trial: 54. Best value: 0.939182:  68%|██████▊   | 68/100 [2:44:50<1:27:39, 164.35s/it]"
     ]
    },
    {
     "name": "stdout",
     "output_type": "stream",
     "text": [
      "[I 2025-10-21 05:08:45,744] Trial 67 finished with value: 0.9388328316828171 and parameters: {'learning_rate': 0.028625751723465268, 'num_leaves': 87, 'max_depth': 11, 'min_child_samples': 93, 'feature_fraction': 0.7250090584845518, 'bagging_fraction': 0.6182010076400681, 'bagging_freq': 3, 'lambda_l1': 0.27572233419866404, 'lambda_l2': 0.0008361712595347412}. Best is trial 54 with value: 0.9391817419040718.\n"
     ]
    },
    {
     "name": "stderr",
     "output_type": "stream",
     "text": [
      "Best trial: 54. Best value: 0.939182:  69%|██████▉   | 69/100 [2:47:49<1:27:10, 168.71s/it]"
     ]
    },
    {
     "name": "stdout",
     "output_type": "stream",
     "text": [
      "[I 2025-10-21 05:11:44,642] Trial 68 finished with value: 0.9391186246015497 and parameters: {'learning_rate': 0.02511363373606941, 'num_leaves': 84, 'max_depth': 12, 'min_child_samples': 82, 'feature_fraction': 0.7743489055276791, 'bagging_fraction': 0.648617776283742, 'bagging_freq': 6, 'lambda_l1': 5.59557795211938, 'lambda_l2': 0.00023449469975398668}. Best is trial 54 with value: 0.9391817419040718.\n"
     ]
    },
    {
     "name": "stderr",
     "output_type": "stream",
     "text": [
      "Best trial: 54. Best value: 0.939182:  70%|███████   | 70/100 [2:50:46<1:25:38, 171.28s/it]"
     ]
    },
    {
     "name": "stdout",
     "output_type": "stream",
     "text": [
      "[I 2025-10-21 05:14:41,911] Trial 69 finished with value: 0.9389287692151589 and parameters: {'learning_rate': 0.01920553309484172, 'num_leaves': 82, 'max_depth': 12, 'min_child_samples': 82, 'feature_fraction': 0.8118273280913737, 'bagging_fraction': 0.6432832927151938, 'bagging_freq': 7, 'lambda_l1': 1.7621159018743033, 'lambda_l2': 0.0033775089205699614}. Best is trial 54 with value: 0.9391817419040718.\n"
     ]
    },
    {
     "name": "stderr",
     "output_type": "stream",
     "text": [
      "Best trial: 54. Best value: 0.939182:  71%|███████   | 71/100 [2:53:18<1:19:59, 165.51s/it]"
     ]
    },
    {
     "name": "stdout",
     "output_type": "stream",
     "text": [
      "[I 2025-10-21 05:17:13,965] Trial 70 finished with value: 0.9389041328244101 and parameters: {'learning_rate': 0.024586931209839066, 'num_leaves': 85, 'max_depth': 12, 'min_child_samples': 79, 'feature_fraction': 0.7750538722033048, 'bagging_fraction': 0.7146440738235769, 'bagging_freq': 7, 'lambda_l1': 0.6101335179638177, 'lambda_l2': 0.00021011590871762895}. Best is trial 54 with value: 0.9391817419040718.\n"
     ]
    },
    {
     "name": "stderr",
     "output_type": "stream",
     "text": [
      "Best trial: 54. Best value: 0.939182:  72%|███████▏  | 72/100 [2:56:19<1:19:22, 170.10s/it]"
     ]
    },
    {
     "name": "stdout",
     "output_type": "stream",
     "text": [
      "[I 2025-10-21 05:20:14,753] Trial 71 finished with value: 0.93903305937311 and parameters: {'learning_rate': 0.026519859206074775, 'num_leaves': 93, 'max_depth': 11, 'min_child_samples': 90, 'feature_fraction': 0.7084207417137212, 'bagging_fraction': 0.6779073205216957, 'bagging_freq': 6, 'lambda_l1': 6.131295947810867, 'lambda_l2': 3.274773035229574e-05}. Best is trial 54 with value: 0.9391817419040718.\n"
     ]
    },
    {
     "name": "stderr",
     "output_type": "stream",
     "text": [
      "Best trial: 54. Best value: 0.939182:  73%|███████▎  | 73/100 [2:59:07<1:16:16, 169.50s/it]"
     ]
    },
    {
     "name": "stdout",
     "output_type": "stream",
     "text": [
      "[I 2025-10-21 05:23:02,876] Trial 72 finished with value: 0.9390191820532714 and parameters: {'learning_rate': 0.026131537690296493, 'num_leaves': 89, 'max_depth': 12, 'min_child_samples': 90, 'feature_fraction': 0.7101967552801678, 'bagging_fraction': 0.652708741037769, 'bagging_freq': 6, 'lambda_l1': 6.429102267745961, 'lambda_l2': 3.437368940014709e-05}. Best is trial 54 with value: 0.9391817419040718.\n"
     ]
    },
    {
     "name": "stderr",
     "output_type": "stream",
     "text": [
      "Best trial: 54. Best value: 0.939182:  74%|███████▍  | 74/100 [3:02:16<1:15:58, 175.34s/it]"
     ]
    },
    {
     "name": "stdout",
     "output_type": "stream",
     "text": [
      "[I 2025-10-21 05:26:11,834] Trial 73 finished with value: 0.9390476697164992 and parameters: {'learning_rate': 0.022139689877191712, 'num_leaves': 98, 'max_depth': 11, 'min_child_samples': 75, 'feature_fraction': 0.7336904543458714, 'bagging_fraction': 0.6800346694062702, 'bagging_freq': 6, 'lambda_l1': 3.570357333291739, 'lambda_l2': 0.00031612963288376434}. Best is trial 54 with value: 0.9391817419040718.\n"
     ]
    },
    {
     "name": "stderr",
     "output_type": "stream",
     "text": [
      "Best trial: 54. Best value: 0.939182:  75%|███████▌  | 75/100 [3:05:29<1:15:15, 180.63s/it]"
     ]
    },
    {
     "name": "stdout",
     "output_type": "stream",
     "text": [
      "[I 2025-10-21 05:29:24,801] Trial 74 finished with value: 0.9390283631913132 and parameters: {'learning_rate': 0.022278998074682886, 'num_leaves': 100, 'max_depth': 12, 'min_child_samples': 68, 'feature_fraction': 0.7829135617651531, 'bagging_fraction': 0.675672955922452, 'bagging_freq': 6, 'lambda_l1': 5.840179806791338, 'lambda_l2': 0.00043653722941459705}. Best is trial 54 with value: 0.9391817419040718.\n"
     ]
    },
    {
     "name": "stderr",
     "output_type": "stream",
     "text": [
      "Best trial: 54. Best value: 0.939182:  76%|███████▌  | 76/100 [3:08:44<1:13:56, 184.84s/it]"
     ]
    },
    {
     "name": "stdout",
     "output_type": "stream",
     "text": [
      "[I 2025-10-21 05:32:39,467] Trial 75 finished with value: 0.9390613512394961 and parameters: {'learning_rate': 0.02004757327280086, 'num_leaves': 97, 'max_depth': 11, 'min_child_samples': 73, 'feature_fraction': 0.7622790155811567, 'bagging_fraction': 0.6602302804184054, 'bagging_freq': 5, 'lambda_l1': 3.1789844535955125, 'lambda_l2': 0.00013396632887834666}. Best is trial 54 with value: 0.9391817419040718.\n"
     ]
    },
    {
     "name": "stderr",
     "output_type": "stream",
     "text": [
      "Best trial: 54. Best value: 0.939182:  77%|███████▋  | 77/100 [3:11:44<1:10:17, 183.37s/it]"
     ]
    },
    {
     "name": "stdout",
     "output_type": "stream",
     "text": [
      "[I 2025-10-21 05:35:39,397] Trial 76 finished with value: 0.9390659123934567 and parameters: {'learning_rate': 0.021773436555179826, 'num_leaves': 97, 'max_depth': 11, 'min_child_samples': 76, 'feature_fraction': 0.763705932236267, 'bagging_fraction': 0.6611328944971329, 'bagging_freq': 4, 'lambda_l1': 2.4635410326344043, 'lambda_l2': 0.00011203332880266103}. Best is trial 54 with value: 0.9391817419040718.\n"
     ]
    },
    {
     "name": "stderr",
     "output_type": "stream",
     "text": [
      "Best trial: 54. Best value: 0.939182:  78%|███████▊  | 78/100 [3:14:50<1:07:30, 184.10s/it]"
     ]
    },
    {
     "name": "stdout",
     "output_type": "stream",
     "text": [
      "[I 2025-10-21 05:38:45,193] Trial 77 finished with value: 0.939057982701857 and parameters: {'learning_rate': 0.019557534343312023, 'num_leaves': 94, 'max_depth': 10, 'min_child_samples': 66, 'feature_fraction': 0.8335830460365691, 'bagging_fraction': 0.6595707582580606, 'bagging_freq': 3, 'lambda_l1': 0.1637151768176962, 'lambda_l2': 9.019163666591669e-05}. Best is trial 54 with value: 0.9391817419040718.\n"
     ]
    },
    {
     "name": "stderr",
     "output_type": "stream",
     "text": [
      "Best trial: 54. Best value: 0.939182:  79%|███████▉  | 79/100 [3:18:06<1:05:41, 187.70s/it]"
     ]
    },
    {
     "name": "stdout",
     "output_type": "stream",
     "text": [
      "[I 2025-10-21 05:42:01,303] Trial 78 finished with value: 0.9391641734196489 and parameters: {'learning_rate': 0.020042201033054128, 'num_leaves': 96, 'max_depth': 12, 'min_child_samples': 71, 'feature_fraction': 0.7567532540085787, 'bagging_fraction': 0.6492197766254149, 'bagging_freq': 4, 'lambda_l1': 2.3514319941215653, 'lambda_l2': 0.00013411482521001323}. Best is trial 54 with value: 0.9391817419040718.\n"
     ]
    },
    {
     "name": "stderr",
     "output_type": "stream",
     "text": [
      "Best trial: 54. Best value: 0.939182:  80%|████████  | 80/100 [3:20:52<1:00:25, 181.26s/it]"
     ]
    },
    {
     "name": "stdout",
     "output_type": "stream",
     "text": [
      "[I 2025-10-21 05:44:47,524] Trial 79 finished with value: 0.9389232131773838 and parameters: {'learning_rate': 0.021698922848106872, 'num_leaves': 89, 'max_depth': 12, 'min_child_samples': 61, 'feature_fraction': 0.7853503099958358, 'bagging_fraction': 0.6180599955327065, 'bagging_freq': 4, 'lambda_l1': 0.69576394167423, 'lambda_l2': 0.0007716825609682311}. Best is trial 54 with value: 0.9391817419040718.\n"
     ]
    },
    {
     "name": "stderr",
     "output_type": "stream",
     "text": [
      "Best trial: 54. Best value: 0.939182:  81%|████████  | 81/100 [3:23:53<57:21, 181.15s/it]  "
     ]
    },
    {
     "name": "stdout",
     "output_type": "stream",
     "text": [
      "[I 2025-10-21 05:47:48,435] Trial 80 finished with value: 0.9391027372529637 and parameters: {'learning_rate': 0.016837095744860035, 'num_leaves': 84, 'max_depth': 12, 'min_child_samples': 70, 'feature_fraction': 0.7543429260060068, 'bagging_fraction': 0.6402011374643515, 'bagging_freq': 4, 'lambda_l1': 2.020715426504542, 'lambda_l2': 0.017896222135601138}. Best is trial 54 with value: 0.9391817419040718.\n"
     ]
    },
    {
     "name": "stderr",
     "output_type": "stream",
     "text": [
      "Best trial: 54. Best value: 0.939182:  82%|████████▏ | 82/100 [3:26:52<54:11, 180.64s/it]"
     ]
    },
    {
     "name": "stdout",
     "output_type": "stream",
     "text": [
      "[I 2025-10-21 05:50:47,881] Trial 81 finished with value: 0.9390592814070612 and parameters: {'learning_rate': 0.0165263518125568, 'num_leaves': 80, 'max_depth': 12, 'min_child_samples': 69, 'feature_fraction': 0.751807824413709, 'bagging_fraction': 0.6458283638627733, 'bagging_freq': 4, 'lambda_l1': 1.7385289746453518, 'lambda_l2': 0.029538578126680228}. Best is trial 54 with value: 0.9391817419040718.\n"
     ]
    },
    {
     "name": "stderr",
     "output_type": "stream",
     "text": [
      "Best trial: 54. Best value: 0.939182:  83%|████████▎ | 83/100 [3:30:02<51:54, 183.23s/it]"
     ]
    },
    {
     "name": "stdout",
     "output_type": "stream",
     "text": [
      "[I 2025-10-21 05:53:57,159] Trial 82 finished with value: 0.9388768700842454 and parameters: {'learning_rate': 0.015168338090537978, 'num_leaves': 83, 'max_depth': 12, 'min_child_samples': 76, 'feature_fraction': 0.7961700531787173, 'bagging_fraction': 0.6235684877933773, 'bagging_freq': 4, 'lambda_l1': 2.2960424979371754, 'lambda_l2': 0.36683777216643987}. Best is trial 54 with value: 0.9391817419040718.\n"
     ]
    },
    {
     "name": "stderr",
     "output_type": "stream",
     "text": [
      "Best trial: 54. Best value: 0.939182:  84%|████████▍ | 84/100 [3:31:49<42:46, 160.38s/it]"
     ]
    },
    {
     "name": "stdout",
     "output_type": "stream",
     "text": [
      "[I 2025-10-21 05:55:44,219] Trial 83 finished with value: 0.9390020929249818 and parameters: {'learning_rate': 0.018169175867612047, 'num_leaves': 85, 'max_depth': 12, 'min_child_samples': 71, 'feature_fraction': 0.7474971152086165, 'bagging_fraction': 0.8116712711212796, 'bagging_freq': 4, 'lambda_l1': 0.30548268624931957, 'lambda_l2': 0.1832701013804438}. Best is trial 54 with value: 0.9391817419040718.\n"
     ]
    },
    {
     "name": "stderr",
     "output_type": "stream",
     "text": [
      "Best trial: 54. Best value: 0.939182:  85%|████████▌ | 85/100 [3:33:17<34:42, 138.86s/it]"
     ]
    },
    {
     "name": "stdout",
     "output_type": "stream",
     "text": [
      "[I 2025-10-21 05:57:12,871] Trial 84 finished with value: 0.9388881210501854 and parameters: {'learning_rate': 0.024450517114899855, 'num_leaves': 96, 'max_depth': 12, 'min_child_samples': 81, 'feature_fraction': 0.7751835403950682, 'bagging_fraction': 0.6327965304395358, 'bagging_freq': 4, 'lambda_l1': 0.7173358339275029, 'lambda_l2': 5.147256330845422e-05}. Best is trial 54 with value: 0.9391817419040718.\n"
     ]
    },
    {
     "name": "stderr",
     "output_type": "stream",
     "text": [
      "Best trial: 54. Best value: 0.939182:  86%|████████▌ | 86/100 [3:34:53<29:21, 125.84s/it]"
     ]
    },
    {
     "name": "stdout",
     "output_type": "stream",
     "text": [
      "[I 2025-10-21 05:58:48,320] Trial 85 finished with value: 0.9386171882888401 and parameters: {'learning_rate': 0.01698660639634348, 'num_leaves': 91, 'max_depth': 8, 'min_child_samples': 64, 'feature_fraction': 0.7634672765209027, 'bagging_fraction': 0.6418503009630242, 'bagging_freq': 4, 'lambda_l1': 9.902744178514775, 'lambda_l2': 1.4730034528774634}. Best is trial 54 with value: 0.9391817419040718.\n"
     ]
    },
    {
     "name": "stderr",
     "output_type": "stream",
     "text": [
      "Best trial: 54. Best value: 0.939182:  87%|████████▋ | 87/100 [3:36:32<25:30, 117.71s/it]"
     ]
    },
    {
     "name": "stdout",
     "output_type": "stream",
     "text": [
      "[I 2025-10-21 06:00:27,058] Trial 86 finished with value: 0.9388660873838199 and parameters: {'learning_rate': 0.013487182051767167, 'num_leaves': 79, 'max_depth': 11, 'min_child_samples': 85, 'feature_fraction': 0.7208705534835083, 'bagging_fraction': 0.6091338446771102, 'bagging_freq': 3, 'lambda_l1': 1.9327270411942246, 'lambda_l2': 0.002097717719652044}. Best is trial 54 with value: 0.9391817419040718.\n"
     ]
    },
    {
     "name": "stderr",
     "output_type": "stream",
     "text": [
      "Best trial: 54. Best value: 0.939182:  88%|████████▊ | 88/100 [3:37:26<19:42, 98.58s/it] "
     ]
    },
    {
     "name": "stdout",
     "output_type": "stream",
     "text": [
      "[I 2025-10-21 06:01:20,996] Trial 87 finished with value: 0.9379166450441427 and parameters: {'learning_rate': 0.019100582544338038, 'num_leaves': 35, 'max_depth': 6, 'min_child_samples': 83, 'feature_fraction': 0.7359224839032944, 'bagging_fraction': 0.6670412885652708, 'bagging_freq': 3, 'lambda_l1': 5.1478254342207075, 'lambda_l2': 0.00814426777060506}. Best is trial 54 with value: 0.9391817419040718.\n"
     ]
    },
    {
     "name": "stderr",
     "output_type": "stream",
     "text": [
      "Best trial: 54. Best value: 0.939182:  89%|████████▉ | 89/100 [3:38:55<17:32, 95.71s/it]"
     ]
    },
    {
     "name": "stdout",
     "output_type": "stream",
     "text": [
      "[I 2025-10-21 06:02:50,028] Trial 88 finished with value: 0.9390620398947664 and parameters: {'learning_rate': 0.020789173215692208, 'num_leaves': 72, 'max_depth': 11, 'min_child_samples': 79, 'feature_fraction': 0.7457006243633093, 'bagging_fraction': 0.6554497787442315, 'bagging_freq': 4, 'lambda_l1': 1.18468085088053, 'lambda_l2': 0.00022261493089013605}. Best is trial 54 with value: 0.9391817419040718.\n"
     ]
    },
    {
     "name": "stderr",
     "output_type": "stream",
     "text": [
      "Best trial: 54. Best value: 0.939182:  90%|█████████ | 90/100 [3:39:51<13:59, 83.92s/it]"
     ]
    },
    {
     "name": "stdout",
     "output_type": "stream",
     "text": [
      "[I 2025-10-21 06:03:46,415] Trial 89 finished with value: 0.9372045937936975 and parameters: {'learning_rate': 0.015009598383044673, 'num_leaves': 26, 'max_depth': 12, 'min_child_samples': 72, 'feature_fraction': 0.8083802132502836, 'bagging_fraction': 0.7048368765556055, 'bagging_freq': 3, 'lambda_l1': 0.43657662224737914, 'lambda_l2': 2.285811152034824}. Best is trial 54 with value: 0.9391817419040718.\n"
     ]
    },
    {
     "name": "stderr",
     "output_type": "stream",
     "text": [
      "Best trial: 54. Best value: 0.939182:  91%|█████████ | 91/100 [3:41:11<12:23, 82.65s/it]"
     ]
    },
    {
     "name": "stdout",
     "output_type": "stream",
     "text": [
      "[I 2025-10-21 06:05:06,124] Trial 90 finished with value: 0.9389194424363009 and parameters: {'learning_rate': 0.023321516141094338, 'num_leaves': 69, 'max_depth': 11, 'min_child_samples': 66, 'feature_fraction': 0.6341881793324646, 'bagging_fraction': 0.6893129999530723, 'bagging_freq': 4, 'lambda_l1': 0.09618877135363149, 'lambda_l2': 1.4158592878625064e-05}. Best is trial 54 with value: 0.9391817419040718.\n"
     ]
    },
    {
     "name": "stderr",
     "output_type": "stream",
     "text": [
      "Best trial: 54. Best value: 0.939182:  92%|█████████▏| 92/100 [3:42:40<11:17, 84.72s/it]"
     ]
    },
    {
     "name": "stdout",
     "output_type": "stream",
     "text": [
      "[I 2025-10-21 06:06:35,677] Trial 91 finished with value: 0.9390236457893849 and parameters: {'learning_rate': 0.021042871654785782, 'num_leaves': 73, 'max_depth': 11, 'min_child_samples': 79, 'feature_fraction': 0.7562497709663892, 'bagging_fraction': 0.6532444149178792, 'bagging_freq': 4, 'lambda_l1': 1.2128174194225376, 'lambda_l2': 0.0002790518394909901}. Best is trial 54 with value: 0.9391817419040718.\n"
     ]
    },
    {
     "name": "stderr",
     "output_type": "stream",
     "text": [
      "Best trial: 54. Best value: 0.939182:  93%|█████████▎| 93/100 [3:44:02<09:47, 83.86s/it]"
     ]
    },
    {
     "name": "stdout",
     "output_type": "stream",
     "text": [
      "[I 2025-10-21 06:07:57,527] Trial 92 finished with value: 0.9389114519838643 and parameters: {'learning_rate': 0.018246434259860594, 'num_leaves': 58, 'max_depth': 11, 'min_child_samples': 77, 'feature_fraction': 0.7433179080598383, 'bagging_fraction': 0.6377452570203028, 'bagging_freq': 4, 'lambda_l1': 2.471230158338625, 'lambda_l2': 8.912225347087505e-08}. Best is trial 54 with value: 0.9391817419040718.\n"
     ]
    },
    {
     "name": "stderr",
     "output_type": "stream",
     "text": [
      "Best trial: 54. Best value: 0.939182:  94%|█████████▍| 94/100 [3:45:46<08:59, 89.88s/it]"
     ]
    },
    {
     "name": "stdout",
     "output_type": "stream",
     "text": [
      "[I 2025-10-21 06:09:41,449] Trial 93 finished with value: 0.9391448504980652 and parameters: {'learning_rate': 0.020468140809028864, 'num_leaves': 88, 'max_depth': 10, 'min_child_samples': 75, 'feature_fraction': 0.7731349779428562, 'bagging_fraction': 0.6679602531839818, 'bagging_freq': 4, 'lambda_l1': 4.2252311011039145, 'lambda_l2': 0.0007295479145059927}. Best is trial 54 with value: 0.9391817419040718.\n"
     ]
    },
    {
     "name": "stderr",
     "output_type": "stream",
     "text": [
      "Best trial: 54. Best value: 0.939182:  95%|█████████▌| 95/100 [3:47:22<07:38, 91.63s/it]"
     ]
    },
    {
     "name": "stdout",
     "output_type": "stream",
     "text": [
      "[I 2025-10-21 06:11:17,159] Trial 94 finished with value: 0.9390866685710545 and parameters: {'learning_rate': 0.022751461983782865, 'num_leaves': 88, 'max_depth': 10, 'min_child_samples': 75, 'feature_fraction': 0.7685448614232225, 'bagging_fraction': 0.6010374719064934, 'bagging_freq': 4, 'lambda_l1': 3.7329411056787127, 'lambda_l2': 7.589451166535386e-05}. Best is trial 54 with value: 0.9391817419040718.\n"
     ]
    },
    {
     "name": "stderr",
     "output_type": "stream",
     "text": [
      "Best trial: 54. Best value: 0.939182:  96%|█████████▌| 96/100 [3:48:58<06:11, 92.98s/it]"
     ]
    },
    {
     "name": "stdout",
     "output_type": "stream",
     "text": [
      "[I 2025-10-21 06:12:53,289] Trial 95 finished with value: 0.9388076918217537 and parameters: {'learning_rate': 0.015693526530501187, 'num_leaves': 84, 'max_depth': 9, 'min_child_samples': 61, 'feature_fraction': 0.778033142416796, 'bagging_fraction': 0.6067690734609253, 'bagging_freq': 5, 'lambda_l1': 4.377808181762314, 'lambda_l2': 2.1602510524253664e-05}. Best is trial 54 with value: 0.9391817419040718.\n"
     ]
    },
    {
     "name": "stderr",
     "output_type": "stream",
     "text": [
      "Best trial: 54. Best value: 0.939182:  97%|█████████▋| 97/100 [3:50:36<04:43, 94.42s/it]"
     ]
    },
    {
     "name": "stdout",
     "output_type": "stream",
     "text": [
      "[I 2025-10-21 06:14:31,057] Trial 96 finished with value: 0.9388258351540693 and parameters: {'learning_rate': 0.01743028007309692, 'num_leaves': 86, 'max_depth': 9, 'min_child_samples': 70, 'feature_fraction': 0.7926741647759555, 'bagging_fraction': 0.6001697074044683, 'bagging_freq': 5, 'lambda_l1': 6.56206872553113, 'lambda_l2': 5.830416724967815e-06}. Best is trial 54 with value: 0.9391817419040718.\n"
     ]
    },
    {
     "name": "stderr",
     "output_type": "stream",
     "text": [
      "Best trial: 54. Best value: 0.939182:  98%|█████████▊| 98/100 [3:52:07<03:07, 93.60s/it]"
     ]
    },
    {
     "name": "stdout",
     "output_type": "stream",
     "text": [
      "[I 2025-10-21 06:16:02,739] Trial 97 finished with value: 0.9388625625973699 and parameters: {'learning_rate': 0.01983195876900964, 'num_leaves': 88, 'max_depth': 10, 'min_child_samples': 95, 'feature_fraction': 0.8258266718172957, 'bagging_fraction': 0.6235701017489442, 'bagging_freq': 4, 'lambda_l1': 0.8610316512677944, 'lambda_l2': 6.304407099852359e-05}. Best is trial 54 with value: 0.9391817419040718.\n"
     ]
    },
    {
     "name": "stderr",
     "output_type": "stream",
     "text": [
      "Best trial: 98. Best value: 0.939183:  99%|█████████▉| 99/100 [3:54:00<01:39, 99.34s/it]"
     ]
    },
    {
     "name": "stdout",
     "output_type": "stream",
     "text": [
      "[I 2025-10-21 06:17:55,498] Trial 98 finished with value: 0.939182892075881 and parameters: {'learning_rate': 0.018755187732905482, 'num_leaves': 93, 'max_depth': 10, 'min_child_samples': 88, 'feature_fraction': 0.6229785450447526, 'bagging_fraction': 0.8425187268765811, 'bagging_freq': 4, 'lambda_l1': 3.44684901676459, 'lambda_l2': 0.0007365075504023804}. Best is trial 98 with value: 0.939182892075881.\n"
     ]
    },
    {
     "name": "stderr",
     "output_type": "stream",
     "text": [
      "Best trial: 98. Best value: 0.939183: 100%|██████████| 100/100 [3:55:46<00:00, 141.47s/it]"
     ]
    },
    {
     "name": "stdout",
     "output_type": "stream",
     "text": [
      "[I 2025-10-21 06:19:41,572] Trial 99 finished with value: 0.939072122847325 and parameters: {'learning_rate': 0.022695646424846654, 'num_leaves': 93, 'max_depth': 10, 'min_child_samples': 88, 'feature_fraction': 0.9425514880990513, 'bagging_fraction': 0.8380277229980803, 'bagging_freq': 4, 'lambda_l1': 3.6907769566102173, 'lambda_l2': 0.0008193813536866141}. Best is trial 98 with value: 0.939182892075881.\n",
      "\n",
      "Best trial:\n",
      "  Value (AUC): 0.9392\n",
      "  Params:\n",
      "    learning_rate: 0.018755187732905482\n",
      "    num_leaves: 93\n",
      "    max_depth: 10\n",
      "    min_child_samples: 88\n",
      "    feature_fraction: 0.6229785450447526\n",
      "    bagging_fraction: 0.8425187268765811\n",
      "    bagging_freq: 4\n",
      "    lambda_l1: 3.44684901676459\n",
      "    lambda_l2: 0.0007365075504023804\n"
     ]
    },
    {
     "name": "stderr",
     "output_type": "stream",
     "text": [
      "\n"
     ]
    }
   ],
   "source": [
    "# Optunaでハイパーパラメータ最適化を実行\n",
    "study = optuna.create_study(direction=\"maximize\", study_name=\"lgbm_optimization\")\n",
    "study.optimize(objective, n_trials=100, show_progress_bar=True) # type: ignore\n",
    "\n",
    "print(f\"\\nBest trial:\")\n",
    "print(f\"  Value (AUC): {study.best_trial.value:.4f}\")\n",
    "print(f\"  Params:\")\n",
    "for key, value in study.best_trial.params.items():\n",
    "    print(f\"    {key}: {value}\")"
   ]
  },
  {
   "cell_type": "code",
   "execution_count": 8,
   "id": "Xref",
   "metadata": {},
   "outputs": [
    {
     "data": {
      "application/vnd.plotly.v1+json": {
       "config": {
        "plotlyServerURL": "https://plot.ly"
       },
       "data": [
        {
         "mode": "markers",
         "name": "Objective Value",
         "type": "scatter",
         "x": [
          0,
          1,
          2,
          3,
          4,
          5,
          6,
          7,
          8,
          9,
          10,
          11,
          12,
          13,
          14,
          15,
          16,
          17,
          18,
          19,
          20,
          21,
          22,
          23,
          24,
          25,
          26,
          27,
          28,
          29,
          30,
          31,
          32,
          33,
          34,
          35,
          36,
          37,
          38,
          39,
          40,
          41,
          42,
          43,
          44,
          45,
          46,
          47,
          48,
          49,
          50,
          51,
          52,
          53,
          54,
          55,
          56,
          57,
          58,
          59,
          60,
          61,
          62,
          63,
          64,
          65,
          66,
          67,
          68,
          69,
          70,
          71,
          72,
          73,
          74,
          75,
          76,
          77,
          78,
          79,
          80,
          81,
          82,
          83,
          84,
          85,
          86,
          87,
          88,
          89,
          90,
          91,
          92,
          93,
          94,
          95,
          96,
          97,
          98,
          99
         ],
         "y": [
          0.9382426916340387,
          0.9357287932502831,
          0.9316065745126885,
          0.9267414928761089,
          0.9381168727309463,
          0.9386575692794127,
          0.9383647253356345,
          0.9347001523905212,
          0.9376987649555517,
          0.9387073807332031,
          0.9378296291991923,
          0.9383821192530182,
          0.9384860602521108,
          0.9383466234807554,
          0.9389666492397207,
          0.9387786167710528,
          0.9389410194064514,
          0.9389112721012228,
          0.938299377128439,
          0.9387764422933893,
          0.9389063097164749,
          0.9387895166602263,
          0.9389981384477422,
          0.9388744935377072,
          0.9389589679092587,
          0.9391338377596956,
          0.938506833314437,
          0.9391440354879347,
          0.939067662971347,
          0.9370376738876185,
          0.9386445349379002,
          0.9390062817774458,
          0.939031276963652,
          0.9388873021893742,
          0.9390300134606511,
          0.9385930722504323,
          0.9389981442348588,
          0.9388588516577558,
          0.9380955388109378,
          0.9384857974257791,
          0.9388544983554604,
          0.9389962248691113,
          0.9389196285885031,
          0.9387717856573443,
          0.9382940549857111,
          0.9387903094873777,
          0.9385477095797196,
          0.9324562020086689,
          0.9375602444665516,
          0.9387148947217264,
          0.9385545961560601,
          0.9390318460202851,
          0.9388648417250011,
          0.9389834113994991,
          0.9391817419040718,
          0.9390075221294957,
          0.9387142706894475,
          0.939025075184418,
          0.9388863270694425,
          0.9383009700119651,
          0.9388377313773952,
          0.9390025645703381,
          0.9379400087630876,
          0.9388560926828522,
          0.9390260329424229,
          0.9391348234871,
          0.9389677150225714,
          0.9388328316828171,
          0.9391186246015497,
          0.9389287692151589,
          0.9389041328244101,
          0.93903305937311,
          0.9390191820532714,
          0.9390476697164992,
          0.9390283631913132,
          0.9390613512394961,
          0.9390659123934567,
          0.939057982701857,
          0.9391641734196489,
          0.9389232131773838,
          0.9391027372529637,
          0.9390592814070612,
          0.9388768700842454,
          0.9390020929249818,
          0.9388881210501854,
          0.9386171882888401,
          0.9388660873838199,
          0.9379166450441427,
          0.9390620398947664,
          0.9372045937936975,
          0.9389194424363009,
          0.9390236457893849,
          0.9389114519838643,
          0.9391448504980652,
          0.9390866685710545,
          0.9388076918217537,
          0.9388258351540693,
          0.9388625625973699,
          0.939182892075881,
          0.939072122847325
         ]
        },
        {
         "mode": "lines",
         "name": "Best Value",
         "type": "scatter",
         "x": [
          0,
          1,
          2,
          3,
          4,
          5,
          6,
          7,
          8,
          9,
          10,
          11,
          12,
          13,
          14,
          15,
          16,
          17,
          18,
          19,
          20,
          21,
          22,
          23,
          24,
          25,
          26,
          27,
          28,
          29,
          30,
          31,
          32,
          33,
          34,
          35,
          36,
          37,
          38,
          39,
          40,
          41,
          42,
          43,
          44,
          45,
          46,
          47,
          48,
          49,
          50,
          51,
          52,
          53,
          54,
          55,
          56,
          57,
          58,
          59,
          60,
          61,
          62,
          63,
          64,
          65,
          66,
          67,
          68,
          69,
          70,
          71,
          72,
          73,
          74,
          75,
          76,
          77,
          78,
          79,
          80,
          81,
          82,
          83,
          84,
          85,
          86,
          87,
          88,
          89,
          90,
          91,
          92,
          93,
          94,
          95,
          96,
          97,
          98,
          99
         ],
         "y": [
          0.9382426916340387,
          0.9382426916340387,
          0.9382426916340387,
          0.9382426916340387,
          0.9382426916340387,
          0.9386575692794127,
          0.9386575692794127,
          0.9386575692794127,
          0.9386575692794127,
          0.9387073807332031,
          0.9387073807332031,
          0.9387073807332031,
          0.9387073807332031,
          0.9387073807332031,
          0.9389666492397207,
          0.9389666492397207,
          0.9389666492397207,
          0.9389666492397207,
          0.9389666492397207,
          0.9389666492397207,
          0.9389666492397207,
          0.9389666492397207,
          0.9389981384477422,
          0.9389981384477422,
          0.9389981384477422,
          0.9391338377596956,
          0.9391338377596956,
          0.9391440354879347,
          0.9391440354879347,
          0.9391440354879347,
          0.9391440354879347,
          0.9391440354879347,
          0.9391440354879347,
          0.9391440354879347,
          0.9391440354879347,
          0.9391440354879347,
          0.9391440354879347,
          0.9391440354879347,
          0.9391440354879347,
          0.9391440354879347,
          0.9391440354879347,
          0.9391440354879347,
          0.9391440354879347,
          0.9391440354879347,
          0.9391440354879347,
          0.9391440354879347,
          0.9391440354879347,
          0.9391440354879347,
          0.9391440354879347,
          0.9391440354879347,
          0.9391440354879347,
          0.9391440354879347,
          0.9391440354879347,
          0.9391440354879347,
          0.9391817419040718,
          0.9391817419040718,
          0.9391817419040718,
          0.9391817419040718,
          0.9391817419040718,
          0.9391817419040718,
          0.9391817419040718,
          0.9391817419040718,
          0.9391817419040718,
          0.9391817419040718,
          0.9391817419040718,
          0.9391817419040718,
          0.9391817419040718,
          0.9391817419040718,
          0.9391817419040718,
          0.9391817419040718,
          0.9391817419040718,
          0.9391817419040718,
          0.9391817419040718,
          0.9391817419040718,
          0.9391817419040718,
          0.9391817419040718,
          0.9391817419040718,
          0.9391817419040718,
          0.9391817419040718,
          0.9391817419040718,
          0.9391817419040718,
          0.9391817419040718,
          0.9391817419040718,
          0.9391817419040718,
          0.9391817419040718,
          0.9391817419040718,
          0.9391817419040718,
          0.9391817419040718,
          0.9391817419040718,
          0.9391817419040718,
          0.9391817419040718,
          0.9391817419040718,
          0.9391817419040718,
          0.9391817419040718,
          0.9391817419040718,
          0.9391817419040718,
          0.9391817419040718,
          0.9391817419040718,
          0.939182892075881,
          0.939182892075881
         ]
        },
        {
         "marker": {
          "color": "#cccccc"
         },
         "mode": "markers",
         "name": "Infeasible Trial",
         "showlegend": false,
         "type": "scatter",
         "x": [],
         "y": []
        }
       ],
       "layout": {
        "template": {
         "data": {
          "bar": [
           {
            "error_x": {
             "color": "#2a3f5f"
            },
            "error_y": {
             "color": "#2a3f5f"
            },
            "marker": {
             "line": {
              "color": "#E5ECF6",
              "width": 0.5
             },
             "pattern": {
              "fillmode": "overlay",
              "size": 10,
              "solidity": 0.2
             }
            },
            "type": "bar"
           }
          ],
          "barpolar": [
           {
            "marker": {
             "line": {
              "color": "#E5ECF6",
              "width": 0.5
             },
             "pattern": {
              "fillmode": "overlay",
              "size": 10,
              "solidity": 0.2
             }
            },
            "type": "barpolar"
           }
          ],
          "carpet": [
           {
            "aaxis": {
             "endlinecolor": "#2a3f5f",
             "gridcolor": "white",
             "linecolor": "white",
             "minorgridcolor": "white",
             "startlinecolor": "#2a3f5f"
            },
            "baxis": {
             "endlinecolor": "#2a3f5f",
             "gridcolor": "white",
             "linecolor": "white",
             "minorgridcolor": "white",
             "startlinecolor": "#2a3f5f"
            },
            "type": "carpet"
           }
          ],
          "choropleth": [
           {
            "colorbar": {
             "outlinewidth": 0,
             "ticks": ""
            },
            "type": "choropleth"
           }
          ],
          "contour": [
           {
            "colorbar": {
             "outlinewidth": 0,
             "ticks": ""
            },
            "colorscale": [
             [
              0,
              "#0d0887"
             ],
             [
              0.1111111111111111,
              "#46039f"
             ],
             [
              0.2222222222222222,
              "#7201a8"
             ],
             [
              0.3333333333333333,
              "#9c179e"
             ],
             [
              0.4444444444444444,
              "#bd3786"
             ],
             [
              0.5555555555555556,
              "#d8576b"
             ],
             [
              0.6666666666666666,
              "#ed7953"
             ],
             [
              0.7777777777777778,
              "#fb9f3a"
             ],
             [
              0.8888888888888888,
              "#fdca26"
             ],
             [
              1,
              "#f0f921"
             ]
            ],
            "type": "contour"
           }
          ],
          "contourcarpet": [
           {
            "colorbar": {
             "outlinewidth": 0,
             "ticks": ""
            },
            "type": "contourcarpet"
           }
          ],
          "heatmap": [
           {
            "colorbar": {
             "outlinewidth": 0,
             "ticks": ""
            },
            "colorscale": [
             [
              0,
              "#0d0887"
             ],
             [
              0.1111111111111111,
              "#46039f"
             ],
             [
              0.2222222222222222,
              "#7201a8"
             ],
             [
              0.3333333333333333,
              "#9c179e"
             ],
             [
              0.4444444444444444,
              "#bd3786"
             ],
             [
              0.5555555555555556,
              "#d8576b"
             ],
             [
              0.6666666666666666,
              "#ed7953"
             ],
             [
              0.7777777777777778,
              "#fb9f3a"
             ],
             [
              0.8888888888888888,
              "#fdca26"
             ],
             [
              1,
              "#f0f921"
             ]
            ],
            "type": "heatmap"
           }
          ],
          "histogram": [
           {
            "marker": {
             "pattern": {
              "fillmode": "overlay",
              "size": 10,
              "solidity": 0.2
             }
            },
            "type": "histogram"
           }
          ],
          "histogram2d": [
           {
            "colorbar": {
             "outlinewidth": 0,
             "ticks": ""
            },
            "colorscale": [
             [
              0,
              "#0d0887"
             ],
             [
              0.1111111111111111,
              "#46039f"
             ],
             [
              0.2222222222222222,
              "#7201a8"
             ],
             [
              0.3333333333333333,
              "#9c179e"
             ],
             [
              0.4444444444444444,
              "#bd3786"
             ],
             [
              0.5555555555555556,
              "#d8576b"
             ],
             [
              0.6666666666666666,
              "#ed7953"
             ],
             [
              0.7777777777777778,
              "#fb9f3a"
             ],
             [
              0.8888888888888888,
              "#fdca26"
             ],
             [
              1,
              "#f0f921"
             ]
            ],
            "type": "histogram2d"
           }
          ],
          "histogram2dcontour": [
           {
            "colorbar": {
             "outlinewidth": 0,
             "ticks": ""
            },
            "colorscale": [
             [
              0,
              "#0d0887"
             ],
             [
              0.1111111111111111,
              "#46039f"
             ],
             [
              0.2222222222222222,
              "#7201a8"
             ],
             [
              0.3333333333333333,
              "#9c179e"
             ],
             [
              0.4444444444444444,
              "#bd3786"
             ],
             [
              0.5555555555555556,
              "#d8576b"
             ],
             [
              0.6666666666666666,
              "#ed7953"
             ],
             [
              0.7777777777777778,
              "#fb9f3a"
             ],
             [
              0.8888888888888888,
              "#fdca26"
             ],
             [
              1,
              "#f0f921"
             ]
            ],
            "type": "histogram2dcontour"
           }
          ],
          "mesh3d": [
           {
            "colorbar": {
             "outlinewidth": 0,
             "ticks": ""
            },
            "type": "mesh3d"
           }
          ],
          "parcoords": [
           {
            "line": {
             "colorbar": {
              "outlinewidth": 0,
              "ticks": ""
             }
            },
            "type": "parcoords"
           }
          ],
          "pie": [
           {
            "automargin": true,
            "type": "pie"
           }
          ],
          "scatter": [
           {
            "fillpattern": {
             "fillmode": "overlay",
             "size": 10,
             "solidity": 0.2
            },
            "type": "scatter"
           }
          ],
          "scatter3d": [
           {
            "line": {
             "colorbar": {
              "outlinewidth": 0,
              "ticks": ""
             }
            },
            "marker": {
             "colorbar": {
              "outlinewidth": 0,
              "ticks": ""
             }
            },
            "type": "scatter3d"
           }
          ],
          "scattercarpet": [
           {
            "marker": {
             "colorbar": {
              "outlinewidth": 0,
              "ticks": ""
             }
            },
            "type": "scattercarpet"
           }
          ],
          "scattergeo": [
           {
            "marker": {
             "colorbar": {
              "outlinewidth": 0,
              "ticks": ""
             }
            },
            "type": "scattergeo"
           }
          ],
          "scattergl": [
           {
            "marker": {
             "colorbar": {
              "outlinewidth": 0,
              "ticks": ""
             }
            },
            "type": "scattergl"
           }
          ],
          "scattermap": [
           {
            "marker": {
             "colorbar": {
              "outlinewidth": 0,
              "ticks": ""
             }
            },
            "type": "scattermap"
           }
          ],
          "scattermapbox": [
           {
            "marker": {
             "colorbar": {
              "outlinewidth": 0,
              "ticks": ""
             }
            },
            "type": "scattermapbox"
           }
          ],
          "scatterpolar": [
           {
            "marker": {
             "colorbar": {
              "outlinewidth": 0,
              "ticks": ""
             }
            },
            "type": "scatterpolar"
           }
          ],
          "scatterpolargl": [
           {
            "marker": {
             "colorbar": {
              "outlinewidth": 0,
              "ticks": ""
             }
            },
            "type": "scatterpolargl"
           }
          ],
          "scatterternary": [
           {
            "marker": {
             "colorbar": {
              "outlinewidth": 0,
              "ticks": ""
             }
            },
            "type": "scatterternary"
           }
          ],
          "surface": [
           {
            "colorbar": {
             "outlinewidth": 0,
             "ticks": ""
            },
            "colorscale": [
             [
              0,
              "#0d0887"
             ],
             [
              0.1111111111111111,
              "#46039f"
             ],
             [
              0.2222222222222222,
              "#7201a8"
             ],
             [
              0.3333333333333333,
              "#9c179e"
             ],
             [
              0.4444444444444444,
              "#bd3786"
             ],
             [
              0.5555555555555556,
              "#d8576b"
             ],
             [
              0.6666666666666666,
              "#ed7953"
             ],
             [
              0.7777777777777778,
              "#fb9f3a"
             ],
             [
              0.8888888888888888,
              "#fdca26"
             ],
             [
              1,
              "#f0f921"
             ]
            ],
            "type": "surface"
           }
          ],
          "table": [
           {
            "cells": {
             "fill": {
              "color": "#EBF0F8"
             },
             "line": {
              "color": "white"
             }
            },
            "header": {
             "fill": {
              "color": "#C8D4E3"
             },
             "line": {
              "color": "white"
             }
            },
            "type": "table"
           }
          ]
         },
         "layout": {
          "annotationdefaults": {
           "arrowcolor": "#2a3f5f",
           "arrowhead": 0,
           "arrowwidth": 1
          },
          "autotypenumbers": "strict",
          "coloraxis": {
           "colorbar": {
            "outlinewidth": 0,
            "ticks": ""
           }
          },
          "colorscale": {
           "diverging": [
            [
             0,
             "#8e0152"
            ],
            [
             0.1,
             "#c51b7d"
            ],
            [
             0.2,
             "#de77ae"
            ],
            [
             0.3,
             "#f1b6da"
            ],
            [
             0.4,
             "#fde0ef"
            ],
            [
             0.5,
             "#f7f7f7"
            ],
            [
             0.6,
             "#e6f5d0"
            ],
            [
             0.7,
             "#b8e186"
            ],
            [
             0.8,
             "#7fbc41"
            ],
            [
             0.9,
             "#4d9221"
            ],
            [
             1,
             "#276419"
            ]
           ],
           "sequential": [
            [
             0,
             "#0d0887"
            ],
            [
             0.1111111111111111,
             "#46039f"
            ],
            [
             0.2222222222222222,
             "#7201a8"
            ],
            [
             0.3333333333333333,
             "#9c179e"
            ],
            [
             0.4444444444444444,
             "#bd3786"
            ],
            [
             0.5555555555555556,
             "#d8576b"
            ],
            [
             0.6666666666666666,
             "#ed7953"
            ],
            [
             0.7777777777777778,
             "#fb9f3a"
            ],
            [
             0.8888888888888888,
             "#fdca26"
            ],
            [
             1,
             "#f0f921"
            ]
           ],
           "sequentialminus": [
            [
             0,
             "#0d0887"
            ],
            [
             0.1111111111111111,
             "#46039f"
            ],
            [
             0.2222222222222222,
             "#7201a8"
            ],
            [
             0.3333333333333333,
             "#9c179e"
            ],
            [
             0.4444444444444444,
             "#bd3786"
            ],
            [
             0.5555555555555556,
             "#d8576b"
            ],
            [
             0.6666666666666666,
             "#ed7953"
            ],
            [
             0.7777777777777778,
             "#fb9f3a"
            ],
            [
             0.8888888888888888,
             "#fdca26"
            ],
            [
             1,
             "#f0f921"
            ]
           ]
          },
          "colorway": [
           "#636efa",
           "#EF553B",
           "#00cc96",
           "#ab63fa",
           "#FFA15A",
           "#19d3f3",
           "#FF6692",
           "#B6E880",
           "#FF97FF",
           "#FECB52"
          ],
          "font": {
           "color": "#2a3f5f"
          },
          "geo": {
           "bgcolor": "white",
           "lakecolor": "white",
           "landcolor": "#E5ECF6",
           "showlakes": true,
           "showland": true,
           "subunitcolor": "white"
          },
          "hoverlabel": {
           "align": "left"
          },
          "hovermode": "closest",
          "mapbox": {
           "style": "light"
          },
          "paper_bgcolor": "white",
          "plot_bgcolor": "#E5ECF6",
          "polar": {
           "angularaxis": {
            "gridcolor": "white",
            "linecolor": "white",
            "ticks": ""
           },
           "bgcolor": "#E5ECF6",
           "radialaxis": {
            "gridcolor": "white",
            "linecolor": "white",
            "ticks": ""
           }
          },
          "scene": {
           "xaxis": {
            "backgroundcolor": "#E5ECF6",
            "gridcolor": "white",
            "gridwidth": 2,
            "linecolor": "white",
            "showbackground": true,
            "ticks": "",
            "zerolinecolor": "white"
           },
           "yaxis": {
            "backgroundcolor": "#E5ECF6",
            "gridcolor": "white",
            "gridwidth": 2,
            "linecolor": "white",
            "showbackground": true,
            "ticks": "",
            "zerolinecolor": "white"
           },
           "zaxis": {
            "backgroundcolor": "#E5ECF6",
            "gridcolor": "white",
            "gridwidth": 2,
            "linecolor": "white",
            "showbackground": true,
            "ticks": "",
            "zerolinecolor": "white"
           }
          },
          "shapedefaults": {
           "line": {
            "color": "#2a3f5f"
           }
          },
          "ternary": {
           "aaxis": {
            "gridcolor": "white",
            "linecolor": "white",
            "ticks": ""
           },
           "baxis": {
            "gridcolor": "white",
            "linecolor": "white",
            "ticks": ""
           },
           "bgcolor": "#E5ECF6",
           "caxis": {
            "gridcolor": "white",
            "linecolor": "white",
            "ticks": ""
           }
          },
          "title": {
           "x": 0.05
          },
          "xaxis": {
           "automargin": true,
           "gridcolor": "white",
           "linecolor": "white",
           "ticks": "",
           "title": {
            "standoff": 15
           },
           "zerolinecolor": "white",
           "zerolinewidth": 2
          },
          "yaxis": {
           "automargin": true,
           "gridcolor": "white",
           "linecolor": "white",
           "ticks": "",
           "title": {
            "standoff": 15
           },
           "zerolinecolor": "white",
           "zerolinewidth": 2
          }
         }
        },
        "title": {
         "text": "Optimization History Plot"
        },
        "xaxis": {
         "title": {
          "text": "Trial"
         }
        },
        "yaxis": {
         "title": {
          "text": "Objective Value"
         }
        }
       }
      }
     },
     "metadata": {},
     "output_type": "display_data"
    },
    {
     "data": {
      "application/vnd.plotly.v1+json": {
       "config": {
        "plotlyServerURL": "https://plot.ly"
       },
       "data": [
        {
         "cliponaxis": false,
         "hovertemplate": [
          "lambda_l2 (FloatDistribution): 0.00029641799012128833<extra></extra>",
          "lambda_l1 (FloatDistribution): 0.0004935856833540206<extra></extra>",
          "bagging_freq (IntDistribution): 0.0009984243731519951<extra></extra>",
          "feature_fraction (FloatDistribution): 0.0030135088828867275<extra></extra>",
          "min_child_samples (IntDistribution): 0.010901882030209078<extra></extra>",
          "num_leaves (IntDistribution): 0.029236441761165317<extra></extra>",
          "learning_rate (FloatDistribution): 0.033834953299805605<extra></extra>",
          "bagging_fraction (FloatDistribution): 0.04507035564853239<extra></extra>",
          "max_depth (IntDistribution): 0.8761544303307734<extra></extra>"
         ],
         "name": "Objective Value",
         "orientation": "h",
         "text": [
          "<0.01",
          "<0.01",
          "<0.01",
          "<0.01",
          "0.01",
          "0.03",
          "0.03",
          "0.05",
          "0.88"
         ],
         "textposition": "outside",
         "type": "bar",
         "x": [
          0.00029641799012128833,
          0.0004935856833540206,
          0.0009984243731519951,
          0.0030135088828867275,
          0.010901882030209078,
          0.029236441761165317,
          0.033834953299805605,
          0.04507035564853239,
          0.8761544303307734
         ],
         "y": [
          "lambda_l2",
          "lambda_l1",
          "bagging_freq",
          "feature_fraction",
          "min_child_samples",
          "num_leaves",
          "learning_rate",
          "bagging_fraction",
          "max_depth"
         ]
        }
       ],
       "layout": {
        "template": {
         "data": {
          "bar": [
           {
            "error_x": {
             "color": "#2a3f5f"
            },
            "error_y": {
             "color": "#2a3f5f"
            },
            "marker": {
             "line": {
              "color": "#E5ECF6",
              "width": 0.5
             },
             "pattern": {
              "fillmode": "overlay",
              "size": 10,
              "solidity": 0.2
             }
            },
            "type": "bar"
           }
          ],
          "barpolar": [
           {
            "marker": {
             "line": {
              "color": "#E5ECF6",
              "width": 0.5
             },
             "pattern": {
              "fillmode": "overlay",
              "size": 10,
              "solidity": 0.2
             }
            },
            "type": "barpolar"
           }
          ],
          "carpet": [
           {
            "aaxis": {
             "endlinecolor": "#2a3f5f",
             "gridcolor": "white",
             "linecolor": "white",
             "minorgridcolor": "white",
             "startlinecolor": "#2a3f5f"
            },
            "baxis": {
             "endlinecolor": "#2a3f5f",
             "gridcolor": "white",
             "linecolor": "white",
             "minorgridcolor": "white",
             "startlinecolor": "#2a3f5f"
            },
            "type": "carpet"
           }
          ],
          "choropleth": [
           {
            "colorbar": {
             "outlinewidth": 0,
             "ticks": ""
            },
            "type": "choropleth"
           }
          ],
          "contour": [
           {
            "colorbar": {
             "outlinewidth": 0,
             "ticks": ""
            },
            "colorscale": [
             [
              0,
              "#0d0887"
             ],
             [
              0.1111111111111111,
              "#46039f"
             ],
             [
              0.2222222222222222,
              "#7201a8"
             ],
             [
              0.3333333333333333,
              "#9c179e"
             ],
             [
              0.4444444444444444,
              "#bd3786"
             ],
             [
              0.5555555555555556,
              "#d8576b"
             ],
             [
              0.6666666666666666,
              "#ed7953"
             ],
             [
              0.7777777777777778,
              "#fb9f3a"
             ],
             [
              0.8888888888888888,
              "#fdca26"
             ],
             [
              1,
              "#f0f921"
             ]
            ],
            "type": "contour"
           }
          ],
          "contourcarpet": [
           {
            "colorbar": {
             "outlinewidth": 0,
             "ticks": ""
            },
            "type": "contourcarpet"
           }
          ],
          "heatmap": [
           {
            "colorbar": {
             "outlinewidth": 0,
             "ticks": ""
            },
            "colorscale": [
             [
              0,
              "#0d0887"
             ],
             [
              0.1111111111111111,
              "#46039f"
             ],
             [
              0.2222222222222222,
              "#7201a8"
             ],
             [
              0.3333333333333333,
              "#9c179e"
             ],
             [
              0.4444444444444444,
              "#bd3786"
             ],
             [
              0.5555555555555556,
              "#d8576b"
             ],
             [
              0.6666666666666666,
              "#ed7953"
             ],
             [
              0.7777777777777778,
              "#fb9f3a"
             ],
             [
              0.8888888888888888,
              "#fdca26"
             ],
             [
              1,
              "#f0f921"
             ]
            ],
            "type": "heatmap"
           }
          ],
          "histogram": [
           {
            "marker": {
             "pattern": {
              "fillmode": "overlay",
              "size": 10,
              "solidity": 0.2
             }
            },
            "type": "histogram"
           }
          ],
          "histogram2d": [
           {
            "colorbar": {
             "outlinewidth": 0,
             "ticks": ""
            },
            "colorscale": [
             [
              0,
              "#0d0887"
             ],
             [
              0.1111111111111111,
              "#46039f"
             ],
             [
              0.2222222222222222,
              "#7201a8"
             ],
             [
              0.3333333333333333,
              "#9c179e"
             ],
             [
              0.4444444444444444,
              "#bd3786"
             ],
             [
              0.5555555555555556,
              "#d8576b"
             ],
             [
              0.6666666666666666,
              "#ed7953"
             ],
             [
              0.7777777777777778,
              "#fb9f3a"
             ],
             [
              0.8888888888888888,
              "#fdca26"
             ],
             [
              1,
              "#f0f921"
             ]
            ],
            "type": "histogram2d"
           }
          ],
          "histogram2dcontour": [
           {
            "colorbar": {
             "outlinewidth": 0,
             "ticks": ""
            },
            "colorscale": [
             [
              0,
              "#0d0887"
             ],
             [
              0.1111111111111111,
              "#46039f"
             ],
             [
              0.2222222222222222,
              "#7201a8"
             ],
             [
              0.3333333333333333,
              "#9c179e"
             ],
             [
              0.4444444444444444,
              "#bd3786"
             ],
             [
              0.5555555555555556,
              "#d8576b"
             ],
             [
              0.6666666666666666,
              "#ed7953"
             ],
             [
              0.7777777777777778,
              "#fb9f3a"
             ],
             [
              0.8888888888888888,
              "#fdca26"
             ],
             [
              1,
              "#f0f921"
             ]
            ],
            "type": "histogram2dcontour"
           }
          ],
          "mesh3d": [
           {
            "colorbar": {
             "outlinewidth": 0,
             "ticks": ""
            },
            "type": "mesh3d"
           }
          ],
          "parcoords": [
           {
            "line": {
             "colorbar": {
              "outlinewidth": 0,
              "ticks": ""
             }
            },
            "type": "parcoords"
           }
          ],
          "pie": [
           {
            "automargin": true,
            "type": "pie"
           }
          ],
          "scatter": [
           {
            "fillpattern": {
             "fillmode": "overlay",
             "size": 10,
             "solidity": 0.2
            },
            "type": "scatter"
           }
          ],
          "scatter3d": [
           {
            "line": {
             "colorbar": {
              "outlinewidth": 0,
              "ticks": ""
             }
            },
            "marker": {
             "colorbar": {
              "outlinewidth": 0,
              "ticks": ""
             }
            },
            "type": "scatter3d"
           }
          ],
          "scattercarpet": [
           {
            "marker": {
             "colorbar": {
              "outlinewidth": 0,
              "ticks": ""
             }
            },
            "type": "scattercarpet"
           }
          ],
          "scattergeo": [
           {
            "marker": {
             "colorbar": {
              "outlinewidth": 0,
              "ticks": ""
             }
            },
            "type": "scattergeo"
           }
          ],
          "scattergl": [
           {
            "marker": {
             "colorbar": {
              "outlinewidth": 0,
              "ticks": ""
             }
            },
            "type": "scattergl"
           }
          ],
          "scattermap": [
           {
            "marker": {
             "colorbar": {
              "outlinewidth": 0,
              "ticks": ""
             }
            },
            "type": "scattermap"
           }
          ],
          "scattermapbox": [
           {
            "marker": {
             "colorbar": {
              "outlinewidth": 0,
              "ticks": ""
             }
            },
            "type": "scattermapbox"
           }
          ],
          "scatterpolar": [
           {
            "marker": {
             "colorbar": {
              "outlinewidth": 0,
              "ticks": ""
             }
            },
            "type": "scatterpolar"
           }
          ],
          "scatterpolargl": [
           {
            "marker": {
             "colorbar": {
              "outlinewidth": 0,
              "ticks": ""
             }
            },
            "type": "scatterpolargl"
           }
          ],
          "scatterternary": [
           {
            "marker": {
             "colorbar": {
              "outlinewidth": 0,
              "ticks": ""
             }
            },
            "type": "scatterternary"
           }
          ],
          "surface": [
           {
            "colorbar": {
             "outlinewidth": 0,
             "ticks": ""
            },
            "colorscale": [
             [
              0,
              "#0d0887"
             ],
             [
              0.1111111111111111,
              "#46039f"
             ],
             [
              0.2222222222222222,
              "#7201a8"
             ],
             [
              0.3333333333333333,
              "#9c179e"
             ],
             [
              0.4444444444444444,
              "#bd3786"
             ],
             [
              0.5555555555555556,
              "#d8576b"
             ],
             [
              0.6666666666666666,
              "#ed7953"
             ],
             [
              0.7777777777777778,
              "#fb9f3a"
             ],
             [
              0.8888888888888888,
              "#fdca26"
             ],
             [
              1,
              "#f0f921"
             ]
            ],
            "type": "surface"
           }
          ],
          "table": [
           {
            "cells": {
             "fill": {
              "color": "#EBF0F8"
             },
             "line": {
              "color": "white"
             }
            },
            "header": {
             "fill": {
              "color": "#C8D4E3"
             },
             "line": {
              "color": "white"
             }
            },
            "type": "table"
           }
          ]
         },
         "layout": {
          "annotationdefaults": {
           "arrowcolor": "#2a3f5f",
           "arrowhead": 0,
           "arrowwidth": 1
          },
          "autotypenumbers": "strict",
          "coloraxis": {
           "colorbar": {
            "outlinewidth": 0,
            "ticks": ""
           }
          },
          "colorscale": {
           "diverging": [
            [
             0,
             "#8e0152"
            ],
            [
             0.1,
             "#c51b7d"
            ],
            [
             0.2,
             "#de77ae"
            ],
            [
             0.3,
             "#f1b6da"
            ],
            [
             0.4,
             "#fde0ef"
            ],
            [
             0.5,
             "#f7f7f7"
            ],
            [
             0.6,
             "#e6f5d0"
            ],
            [
             0.7,
             "#b8e186"
            ],
            [
             0.8,
             "#7fbc41"
            ],
            [
             0.9,
             "#4d9221"
            ],
            [
             1,
             "#276419"
            ]
           ],
           "sequential": [
            [
             0,
             "#0d0887"
            ],
            [
             0.1111111111111111,
             "#46039f"
            ],
            [
             0.2222222222222222,
             "#7201a8"
            ],
            [
             0.3333333333333333,
             "#9c179e"
            ],
            [
             0.4444444444444444,
             "#bd3786"
            ],
            [
             0.5555555555555556,
             "#d8576b"
            ],
            [
             0.6666666666666666,
             "#ed7953"
            ],
            [
             0.7777777777777778,
             "#fb9f3a"
            ],
            [
             0.8888888888888888,
             "#fdca26"
            ],
            [
             1,
             "#f0f921"
            ]
           ],
           "sequentialminus": [
            [
             0,
             "#0d0887"
            ],
            [
             0.1111111111111111,
             "#46039f"
            ],
            [
             0.2222222222222222,
             "#7201a8"
            ],
            [
             0.3333333333333333,
             "#9c179e"
            ],
            [
             0.4444444444444444,
             "#bd3786"
            ],
            [
             0.5555555555555556,
             "#d8576b"
            ],
            [
             0.6666666666666666,
             "#ed7953"
            ],
            [
             0.7777777777777778,
             "#fb9f3a"
            ],
            [
             0.8888888888888888,
             "#fdca26"
            ],
            [
             1,
             "#f0f921"
            ]
           ]
          },
          "colorway": [
           "#636efa",
           "#EF553B",
           "#00cc96",
           "#ab63fa",
           "#FFA15A",
           "#19d3f3",
           "#FF6692",
           "#B6E880",
           "#FF97FF",
           "#FECB52"
          ],
          "font": {
           "color": "#2a3f5f"
          },
          "geo": {
           "bgcolor": "white",
           "lakecolor": "white",
           "landcolor": "#E5ECF6",
           "showlakes": true,
           "showland": true,
           "subunitcolor": "white"
          },
          "hoverlabel": {
           "align": "left"
          },
          "hovermode": "closest",
          "mapbox": {
           "style": "light"
          },
          "paper_bgcolor": "white",
          "plot_bgcolor": "#E5ECF6",
          "polar": {
           "angularaxis": {
            "gridcolor": "white",
            "linecolor": "white",
            "ticks": ""
           },
           "bgcolor": "#E5ECF6",
           "radialaxis": {
            "gridcolor": "white",
            "linecolor": "white",
            "ticks": ""
           }
          },
          "scene": {
           "xaxis": {
            "backgroundcolor": "#E5ECF6",
            "gridcolor": "white",
            "gridwidth": 2,
            "linecolor": "white",
            "showbackground": true,
            "ticks": "",
            "zerolinecolor": "white"
           },
           "yaxis": {
            "backgroundcolor": "#E5ECF6",
            "gridcolor": "white",
            "gridwidth": 2,
            "linecolor": "white",
            "showbackground": true,
            "ticks": "",
            "zerolinecolor": "white"
           },
           "zaxis": {
            "backgroundcolor": "#E5ECF6",
            "gridcolor": "white",
            "gridwidth": 2,
            "linecolor": "white",
            "showbackground": true,
            "ticks": "",
            "zerolinecolor": "white"
           }
          },
          "shapedefaults": {
           "line": {
            "color": "#2a3f5f"
           }
          },
          "ternary": {
           "aaxis": {
            "gridcolor": "white",
            "linecolor": "white",
            "ticks": ""
           },
           "baxis": {
            "gridcolor": "white",
            "linecolor": "white",
            "ticks": ""
           },
           "bgcolor": "#E5ECF6",
           "caxis": {
            "gridcolor": "white",
            "linecolor": "white",
            "ticks": ""
           }
          },
          "title": {
           "x": 0.05
          },
          "xaxis": {
           "automargin": true,
           "gridcolor": "white",
           "linecolor": "white",
           "ticks": "",
           "title": {
            "standoff": 15
           },
           "zerolinecolor": "white",
           "zerolinewidth": 2
          },
          "yaxis": {
           "automargin": true,
           "gridcolor": "white",
           "linecolor": "white",
           "ticks": "",
           "title": {
            "standoff": 15
           },
           "zerolinecolor": "white",
           "zerolinewidth": 2
          }
         }
        },
        "title": {
         "text": "Hyperparameter Importances"
        },
        "xaxis": {
         "title": {
          "text": "Hyperparameter Importance"
         }
        },
        "yaxis": {
         "title": {
          "text": "Hyperparameter"
         }
        }
       }
      }
     },
     "metadata": {},
     "output_type": "display_data"
    }
   ],
   "source": [
    "# 最適化の履歴を可視化\n",
    "fig1 = plot_optimization_history(study)\n",
    "fig1.show()\n",
    "\n",
    "# パラメータの重要度を可視化\n",
    "fig2 = plot_param_importances(study)\n",
    "fig2.show()"
   ]
  },
  {
   "cell_type": "code",
   "execution_count": 9,
   "id": "SFPL",
   "metadata": {},
   "outputs": [
    {
     "name": "stdout",
     "output_type": "stream",
     "text": [
      "Final Training - Fold 1 / 5\n",
      "Valid Accuracy: 0.8586 | AUC: 0.9392\n",
      "Best iteration: 972\n",
      "\n",
      "Final Training - Fold 2 / 5\n",
      "Valid Accuracy: 0.8548 | AUC: 0.9380\n",
      "Best iteration: 991\n",
      "\n",
      "Final Training - Fold 3 / 5\n",
      "Valid Accuracy: 0.8556 | AUC: 0.9379\n",
      "Best iteration: 973\n",
      "\n",
      "Final Training - Fold 4 / 5\n",
      "Valid Accuracy: 0.8582 | AUC: 0.9397\n",
      "Best iteration: 995\n",
      "\n",
      "Final Training - Fold 5 / 5\n",
      "Valid Accuracy: 0.8594 | AUC: 0.9411\n",
      "Best iteration: 997\n",
      "\n",
      "\n",
      "==================================================\n",
      "Final Results with Best Parameters:\n",
      "==================================================\n",
      "Valid AUC:      0.9392 ± 0.0012\n",
      "Valid Accuracy: 0.8573 ± 0.0018\n",
      "OOF AUC:        0.9392\n",
      "OOF Accuracy:   0.8573\n"
     ]
    }
   ],
   "source": [
    "# 最適なパラメータで再学習\n",
    "best_params = study.best_trial.params\n",
    "best_params.update(\n",
    "    {\n",
    "        \"objective\": \"binary\",\n",
    "        \"metric\": \"binary_logloss\",\n",
    "        \"boosting_type\": \"gbdt\",\n",
    "        \"verbosity\": -1,\n",
    "        \"random_state\": 42,\n",
    "    }\n",
    ")\n",
    "\n",
    "# 交差検証で最終評価\n",
    "n_splits_final = 5\n",
    "kf_final = StratifiedKFold(n_splits=n_splits_final, shuffle=True, random_state=71)\n",
    "\n",
    "cv_valid_auc_best = []\n",
    "cv_valid_acc_best = []\n",
    "oof_predictions_best = np.zeros(X_train.shape[0])\n",
    "test_predictions_best = np.zeros(X_test.shape[0])\n",
    "\n",
    "for fold, (train_idx, valid_idx) in enumerate(kf_final.split(X_train, y_train), 1):\n",
    "    print(f\"Final Training - Fold {fold} / {n_splits_final}\")\n",
    "\n",
    "    X_train_fold = X_train.iloc[train_idx]\n",
    "    X_valid_fold = X_train.iloc[valid_idx]\n",
    "    y_train_fold = y_train.iloc[train_idx]\n",
    "    y_valid_fold = y_train.iloc[valid_idx]\n",
    "\n",
    "    train_data = lgb.Dataset(X_train_fold, label=y_train_fold)\n",
    "    valid_data = lgb.Dataset(X_valid_fold, label=y_valid_fold, reference=train_data)\n",
    "\n",
    "    model = lgb.train(\n",
    "        best_params,\n",
    "        train_data,\n",
    "        num_boost_round=1000,\n",
    "        valid_sets=[train_data, valid_data],\n",
    "        callbacks=[\n",
    "            lgb.early_stopping(stopping_rounds=50, verbose=False),\n",
    "            lgb.log_evaluation(period=0),\n",
    "        ],\n",
    "    )\n",
    "\n",
    "    y_valid_pred = model.predict(X_valid_fold, num_iteration=model.best_iteration)\n",
    "    oof_predictions_best[valid_idx] = y_valid_pred  # type: ignore\n",
    "\n",
    "    test_predictions_best += model.predict(X_test, num_iteration=model.best_iteration) / n_splits_final  # type: ignore\n",
    "\n",
    "    valid_auc = roc_auc_score(y_valid_fold, y_valid_pred)  # type: ignore\n",
    "    valid_acc = accuracy_score(y_valid_fold, (y_valid_pred > optimal_threshold).astype(int))  # type: ignore\n",
    "\n",
    "    cv_valid_auc_best.append(valid_auc)\n",
    "    cv_valid_acc_best.append(valid_acc)\n",
    "\n",
    "    print(f\"Valid Accuracy: {valid_acc:.4f} | AUC: {valid_auc:.4f}\")\n",
    "    print(f\"Best iteration: {model.best_iteration}\\n\")\n",
    "\n",
    "# OOF全体の評価\n",
    "oof_auc_best = roc_auc_score(y_train, oof_predictions_best)  # type: ignore\n",
    "oof_acc_best = accuracy_score(y_train, (oof_predictions_best > optimal_threshold).astype(int))  # type: ignore\n",
    "\n",
    "print(f\"\\n{'='*50}\")\n",
    "print(f\"Final Results with Best Parameters:\")\n",
    "print(f\"{'='*50}\")\n",
    "print(f\"Valid AUC:      {np.mean(cv_valid_auc_best):.4f} ± {np.std(cv_valid_auc_best):.4f}\")\n",
    "print(f\"Valid Accuracy: {np.mean(cv_valid_acc_best):.4f} ± {np.std(cv_valid_acc_best):.4f}\")\n",
    "print(f\"OOF AUC:        {oof_auc_best:.4f}\")\n",
    "print(f\"OOF Accuracy:   {oof_acc_best:.4f}\")"
   ]
  },
  {
   "cell_type": "code",
   "execution_count": 10,
   "id": "BYtC",
   "metadata": {},
   "outputs": [
    {
     "name": "stdout",
     "output_type": "stream",
     "text": [
      "Submission file saved to: ../outputs/submissions/submission_lgbm_optuna.csv\n"
     ]
    }
   ],
   "source": [
    "# 最適化されたモデルでの提出ファイル作成\n",
    "y_test_pred_best = (test_predictions_best > optimal_threshold).astype(int)\n",
    "\n",
    "save_path_optuna = \"../outputs/submissions/submission_lgbm_optuna.csv\"\n",
    "submission_optuna = pd.DataFrame({\"id\": test_df[\"id\"], \"win\": y_test_pred_best})\n",
    "submission_optuna.to_csv(save_path_optuna, index=False)\n",
    "print(f\"Submission file saved to: {save_path_optuna}\")"
   ]
  },
  {
   "cell_type": "code",
   "execution_count": 11,
   "id": "RGSE",
   "metadata": {},
   "outputs": [],
   "source": [
    "# ベストパラメータを保存\n",
    "best_params_to_save = {\n",
    "    \"model\": {\n",
    "        \"objective\": \"binary\",\n",
    "        \"metric\": \"binary_logloss\",\n",
    "        \"boosting_type\": \"gbdt\",\n",
    "        \"verbosity\": -1,\n",
    "        \"random_state\": 42,\n",
    "        **study.best_trial.params,\n",
    "    },\n",
    "    \"optimization\": {\n",
    "        \"best_auc\": float(study.best_trial.value), # type: ignore\n",
    "        \"n_trials\": len(study.trials),\n",
    "    },\n",
    "}\n",
    "\n",
    "save_path = \"../configs/config_lgbm_optimized.yaml\"\n",
    "with open(save_path, \"w\") as config_out:\n",
    "    yaml.dump(best_params_to_save, config_out, default_flow_style=False, sort_keys=False)"
   ]
  },
  {
   "cell_type": "code",
   "execution_count": null,
   "id": "Kclp",
   "metadata": {},
   "outputs": [],
   "source": []
  }
 ],
 "metadata": {
  "kernelspec": {
   "display_name": "league-of-legends-winning-prediction",
   "language": "python",
   "name": "python3"
  },
  "language_info": {
   "codemirror_mode": {
    "name": "ipython",
    "version": 3
   },
   "file_extension": ".py",
   "mimetype": "text/x-python",
   "name": "python",
   "nbconvert_exporter": "python",
   "pygments_lexer": "ipython3",
   "version": "3.13.8"
  }
 },
 "nbformat": 4,
 "nbformat_minor": 5
}
